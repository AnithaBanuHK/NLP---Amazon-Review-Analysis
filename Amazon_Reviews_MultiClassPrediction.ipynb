{
  "cells": [
    {
      "cell_type": "markdown",
      "id": "bfbd5eeb",
      "metadata": {
        "id": "bfbd5eeb"
      },
      "source": [
        "# Amazon Reviews Sentiment Analysis"
      ]
    },
    {
      "cell_type": "markdown",
      "id": "e72275f0",
      "metadata": {
        "id": "e72275f0"
      },
      "source": [
        "# Necessary Libraries"
      ]
    },
    {
      "cell_type": "code",
      "execution_count": 4,
      "id": "e1be4b61",
      "metadata": {
        "colab": {
          "base_uri": "https://localhost:8080/"
        },
        "id": "e1be4b61",
        "outputId": "013c085f-ac23-4ade-9ac5-2a9a28115f14"
      },
      "outputs": [
        {
          "output_type": "stream",
          "name": "stdout",
          "text": [
            "Looking in indexes: https://pypi.org/simple, https://us-python.pkg.dev/colab-wheels/public/simple/\n",
            "Requirement already satisfied: contractions in /usr/local/lib/python3.9/dist-packages (0.1.73)\n",
            "Requirement already satisfied: textsearch>=0.0.21 in /usr/local/lib/python3.9/dist-packages (from contractions) (0.0.24)\n",
            "Requirement already satisfied: pyahocorasick in /usr/local/lib/python3.9/dist-packages (from textsearch>=0.0.21->contractions) (2.0.0)\n",
            "Requirement already satisfied: anyascii in /usr/local/lib/python3.9/dist-packages (from textsearch>=0.0.21->contractions) (0.3.2)\n",
            "Looking in indexes: https://pypi.org/simple, https://us-python.pkg.dev/colab-wheels/public/simple/\n",
            "Requirement already satisfied: pyLDAvis in /usr/local/lib/python3.9/dist-packages (3.4.0)\n",
            "Requirement already satisfied: funcy in /usr/local/lib/python3.9/dist-packages (from pyLDAvis) (2.0)\n",
            "Requirement already satisfied: numexpr in /usr/local/lib/python3.9/dist-packages (from pyLDAvis) (2.8.4)\n",
            "Requirement already satisfied: gensim in /usr/local/lib/python3.9/dist-packages (from pyLDAvis) (4.3.1)\n",
            "Requirement already satisfied: joblib>=1.2.0 in /usr/local/lib/python3.9/dist-packages (from pyLDAvis) (1.2.0)\n",
            "Requirement already satisfied: numpy>=1.22.0 in /usr/local/lib/python3.9/dist-packages (from pyLDAvis) (1.22.4)\n",
            "Requirement already satisfied: scipy in /usr/local/lib/python3.9/dist-packages (from pyLDAvis) (1.10.1)\n",
            "Requirement already satisfied: setuptools in /usr/local/lib/python3.9/dist-packages (from pyLDAvis) (67.6.1)\n",
            "Requirement already satisfied: scikit-learn>=1.0.0 in /usr/local/lib/python3.9/dist-packages (from pyLDAvis) (1.2.2)\n",
            "Requirement already satisfied: jinja2 in /usr/local/lib/python3.9/dist-packages (from pyLDAvis) (3.1.2)\n",
            "Requirement already satisfied: pandas>=1.3.4 in /usr/local/lib/python3.9/dist-packages (from pyLDAvis) (1.4.4)\n",
            "Requirement already satisfied: python-dateutil>=2.8.1 in /usr/local/lib/python3.9/dist-packages (from pandas>=1.3.4->pyLDAvis) (2.8.2)\n",
            "Requirement already satisfied: pytz>=2020.1 in /usr/local/lib/python3.9/dist-packages (from pandas>=1.3.4->pyLDAvis) (2022.7.1)\n",
            "Requirement already satisfied: threadpoolctl>=2.0.0 in /usr/local/lib/python3.9/dist-packages (from scikit-learn>=1.0.0->pyLDAvis) (3.1.0)\n",
            "Requirement already satisfied: smart-open>=1.8.1 in /usr/local/lib/python3.9/dist-packages (from gensim->pyLDAvis) (6.3.0)\n",
            "Requirement already satisfied: MarkupSafe>=2.0 in /usr/local/lib/python3.9/dist-packages (from jinja2->pyLDAvis) (2.1.2)\n",
            "Requirement already satisfied: six>=1.5 in /usr/local/lib/python3.9/dist-packages (from python-dateutil>=2.8.1->pandas>=1.3.4->pyLDAvis) (1.16.0)\n",
            "Looking in indexes: https://pypi.org/simple, https://us-python.pkg.dev/colab-wheels/public/simple/\n",
            "Requirement already satisfied: tensorflow in /usr/local/lib/python3.9/dist-packages (2.12.0)\n",
            "Requirement already satisfied: termcolor>=1.1.0 in /usr/local/lib/python3.9/dist-packages (from tensorflow) (2.2.0)\n",
            "Requirement already satisfied: keras<2.13,>=2.12.0 in /usr/local/lib/python3.9/dist-packages (from tensorflow) (2.12.0)\n",
            "Requirement already satisfied: flatbuffers>=2.0 in /usr/local/lib/python3.9/dist-packages (from tensorflow) (23.3.3)\n",
            "Requirement already satisfied: astunparse>=1.6.0 in /usr/local/lib/python3.9/dist-packages (from tensorflow) (1.6.3)\n",
            "Requirement already satisfied: libclang>=13.0.0 in /usr/local/lib/python3.9/dist-packages (from tensorflow) (16.0.0)\n",
            "Requirement already satisfied: h5py>=2.9.0 in /usr/local/lib/python3.9/dist-packages (from tensorflow) (3.8.0)\n",
            "Requirement already satisfied: tensorboard<2.13,>=2.12 in /usr/local/lib/python3.9/dist-packages (from tensorflow) (2.12.0)\n",
            "Requirement already satisfied: google-pasta>=0.1.1 in /usr/local/lib/python3.9/dist-packages (from tensorflow) (0.2.0)\n",
            "Requirement already satisfied: grpcio<2.0,>=1.24.3 in /usr/local/lib/python3.9/dist-packages (from tensorflow) (1.53.0)\n",
            "Requirement already satisfied: six>=1.12.0 in /usr/local/lib/python3.9/dist-packages (from tensorflow) (1.16.0)\n",
            "Requirement already satisfied: absl-py>=1.0.0 in /usr/local/lib/python3.9/dist-packages (from tensorflow) (1.4.0)\n",
            "Requirement already satisfied: protobuf!=4.21.0,!=4.21.1,!=4.21.2,!=4.21.3,!=4.21.4,!=4.21.5,<5.0.0dev,>=3.20.3 in /usr/local/lib/python3.9/dist-packages (from tensorflow) (3.20.3)\n",
            "Requirement already satisfied: jax>=0.3.15 in /usr/local/lib/python3.9/dist-packages (from tensorflow) (0.4.7)\n",
            "Requirement already satisfied: typing-extensions>=3.6.6 in /usr/local/lib/python3.9/dist-packages (from tensorflow) (4.5.0)\n",
            "Requirement already satisfied: packaging in /usr/local/lib/python3.9/dist-packages (from tensorflow) (23.0)\n",
            "Requirement already satisfied: numpy<1.24,>=1.22 in /usr/local/lib/python3.9/dist-packages (from tensorflow) (1.22.4)\n",
            "Requirement already satisfied: setuptools in /usr/local/lib/python3.9/dist-packages (from tensorflow) (67.6.1)\n",
            "Requirement already satisfied: tensorflow-estimator<2.13,>=2.12.0 in /usr/local/lib/python3.9/dist-packages (from tensorflow) (2.12.0)\n",
            "Requirement already satisfied: wrapt<1.15,>=1.11.0 in /usr/local/lib/python3.9/dist-packages (from tensorflow) (1.14.1)\n",
            "Requirement already satisfied: gast<=0.4.0,>=0.2.1 in /usr/local/lib/python3.9/dist-packages (from tensorflow) (0.4.0)\n",
            "Requirement already satisfied: opt-einsum>=2.3.2 in /usr/local/lib/python3.9/dist-packages (from tensorflow) (3.3.0)\n",
            "Requirement already satisfied: tensorflow-io-gcs-filesystem>=0.23.1 in /usr/local/lib/python3.9/dist-packages (from tensorflow) (0.32.0)\n",
            "Requirement already satisfied: wheel<1.0,>=0.23.0 in /usr/local/lib/python3.9/dist-packages (from astunparse>=1.6.0->tensorflow) (0.40.0)\n",
            "Requirement already satisfied: scipy>=1.7 in /usr/local/lib/python3.9/dist-packages (from jax>=0.3.15->tensorflow) (1.10.1)\n",
            "Requirement already satisfied: ml-dtypes>=0.0.3 in /usr/local/lib/python3.9/dist-packages (from jax>=0.3.15->tensorflow) (0.0.4)\n",
            "Requirement already satisfied: google-auth-oauthlib<0.5,>=0.4.1 in /usr/local/lib/python3.9/dist-packages (from tensorboard<2.13,>=2.12->tensorflow) (0.4.6)\n",
            "Requirement already satisfied: tensorboard-plugin-wit>=1.6.0 in /usr/local/lib/python3.9/dist-packages (from tensorboard<2.13,>=2.12->tensorflow) (1.8.1)\n",
            "Requirement already satisfied: google-auth<3,>=1.6.3 in /usr/local/lib/python3.9/dist-packages (from tensorboard<2.13,>=2.12->tensorflow) (2.17.0)\n",
            "Requirement already satisfied: werkzeug>=1.0.1 in /usr/local/lib/python3.9/dist-packages (from tensorboard<2.13,>=2.12->tensorflow) (2.2.3)\n",
            "Requirement already satisfied: requests<3,>=2.21.0 in /usr/local/lib/python3.9/dist-packages (from tensorboard<2.13,>=2.12->tensorflow) (2.27.1)\n",
            "Requirement already satisfied: markdown>=2.6.8 in /usr/local/lib/python3.9/dist-packages (from tensorboard<2.13,>=2.12->tensorflow) (3.4.3)\n",
            "Requirement already satisfied: tensorboard-data-server<0.8.0,>=0.7.0 in /usr/local/lib/python3.9/dist-packages (from tensorboard<2.13,>=2.12->tensorflow) (0.7.0)\n",
            "Requirement already satisfied: rsa<5,>=3.1.4 in /usr/local/lib/python3.9/dist-packages (from google-auth<3,>=1.6.3->tensorboard<2.13,>=2.12->tensorflow) (4.9)\n",
            "Requirement already satisfied: pyasn1-modules>=0.2.1 in /usr/local/lib/python3.9/dist-packages (from google-auth<3,>=1.6.3->tensorboard<2.13,>=2.12->tensorflow) (0.2.8)\n",
            "Requirement already satisfied: cachetools<6.0,>=2.0.0 in /usr/local/lib/python3.9/dist-packages (from google-auth<3,>=1.6.3->tensorboard<2.13,>=2.12->tensorflow) (5.3.0)\n",
            "Requirement already satisfied: requests-oauthlib>=0.7.0 in /usr/local/lib/python3.9/dist-packages (from google-auth-oauthlib<0.5,>=0.4.1->tensorboard<2.13,>=2.12->tensorflow) (1.3.1)\n",
            "Requirement already satisfied: importlib-metadata>=4.4 in /usr/local/lib/python3.9/dist-packages (from markdown>=2.6.8->tensorboard<2.13,>=2.12->tensorflow) (6.1.0)\n",
            "Requirement already satisfied: certifi>=2017.4.17 in /usr/local/lib/python3.9/dist-packages (from requests<3,>=2.21.0->tensorboard<2.13,>=2.12->tensorflow) (2022.12.7)\n",
            "Requirement already satisfied: urllib3<1.27,>=1.21.1 in /usr/local/lib/python3.9/dist-packages (from requests<3,>=2.21.0->tensorboard<2.13,>=2.12->tensorflow) (1.26.15)\n",
            "Requirement already satisfied: idna<4,>=2.5 in /usr/local/lib/python3.9/dist-packages (from requests<3,>=2.21.0->tensorboard<2.13,>=2.12->tensorflow) (3.4)\n",
            "Requirement already satisfied: charset-normalizer~=2.0.0 in /usr/local/lib/python3.9/dist-packages (from requests<3,>=2.21.0->tensorboard<2.13,>=2.12->tensorflow) (2.0.12)\n",
            "Requirement already satisfied: MarkupSafe>=2.1.1 in /usr/local/lib/python3.9/dist-packages (from werkzeug>=1.0.1->tensorboard<2.13,>=2.12->tensorflow) (2.1.2)\n",
            "Requirement already satisfied: zipp>=0.5 in /usr/local/lib/python3.9/dist-packages (from importlib-metadata>=4.4->markdown>=2.6.8->tensorboard<2.13,>=2.12->tensorflow) (3.15.0)\n",
            "Requirement already satisfied: pyasn1<0.5.0,>=0.4.6 in /usr/local/lib/python3.9/dist-packages (from pyasn1-modules>=0.2.1->google-auth<3,>=1.6.3->tensorboard<2.13,>=2.12->tensorflow) (0.4.8)\n",
            "Requirement already satisfied: oauthlib>=3.0.0 in /usr/local/lib/python3.9/dist-packages (from requests-oauthlib>=0.7.0->google-auth-oauthlib<0.5,>=0.4.1->tensorboard<2.13,>=2.12->tensorflow) (3.2.2)\n",
            "Looking in indexes: https://pypi.org/simple, https://us-python.pkg.dev/colab-wheels/public/simple/\n",
            "Requirement already satisfied: Keras-Preprocessing in /usr/local/lib/python3.9/dist-packages (1.1.2)\n",
            "Requirement already satisfied: six>=1.9.0 in /usr/local/lib/python3.9/dist-packages (from Keras-Preprocessing) (1.16.0)\n",
            "Requirement already satisfied: numpy>=1.9.1 in /usr/local/lib/python3.9/dist-packages (from Keras-Preprocessing) (1.22.4)\n"
          ]
        }
      ],
      "source": [
        "!pip install contractions\n",
        "!pip install pyLDAvis\n",
        "!pip install tensorflow\n",
        "!pip install Keras-Preprocessing"
      ]
    },
    {
      "cell_type": "code",
      "execution_count": 5,
      "id": "bd1fa782",
      "metadata": {
        "colab": {
          "base_uri": "https://localhost:8080/"
        },
        "id": "bd1fa782",
        "outputId": "f4bfd37d-afdd-481e-c185-89f81b7302d7"
      },
      "outputs": [
        {
          "output_type": "stream",
          "name": "stderr",
          "text": [
            "[nltk_data] Downloading package stopwords to /root/nltk_data...\n",
            "[nltk_data]   Package stopwords is already up-to-date!\n",
            "/usr/local/lib/python3.9/dist-packages/torch/cuda/__init__.py:497: UserWarning: Can't initialize NVML\n",
            "  warnings.warn(\"Can't initialize NVML\")\n"
          ]
        },
        {
          "output_type": "stream",
          "name": "stdout",
          "text": [
            "\u001b[38;5;2m✔ Download and installation successful\u001b[0m\n",
            "You can now load the package via spacy.load('en_core_web_sm')\n"
          ]
        }
      ],
      "source": [
        "import pandas as pd\n",
        "import numpy as np\n",
        "from numpy import asarray\n",
        "from numpy import zeros\n",
        "import pickle\n",
        "import matplotlib.pyplot as plt\n",
        "from wordcloud import WordCloud\n",
        "import seaborn as sns\n",
        "from PIL import Image\n",
        "import re\n",
        "import unicodedata\n",
        "import contractions\n",
        "import string\n",
        "import nltk\n",
        "nltk.download('stopwords')\n",
        "from nltk.corpus import stopwords\n",
        "from nltk.stem import PorterStemmer\n",
        "from nltk.stem import WordNetLemmatizer\n",
        "from sklearn.feature_extraction.text import CountVectorizer, TfidfVectorizer\n",
        "from sklearn.model_selection import GridSearchCV\n",
        "from sklearn.pipeline import Pipeline\n",
        "from sklearn.model_selection import RandomizedSearchCV\n",
        "\n",
        "from sklearn.model_selection import train_test_split\n",
        "from sklearn.metrics import accuracy_score, confusion_matrix, classification_report\n",
        "\n",
        "from sklearn.naive_bayes import MultinomialNB\n",
        "from sklearn.naive_bayes import BernoulliNB\n",
        "from sklearn.svm import SVC\n",
        "from sklearn.linear_model import LogisticRegression\n",
        "from sklearn.ensemble import RandomForestClassifier\n",
        "\n",
        "from sklearn.model_selection import cross_val_score\n",
        "import multiprocessing\n",
        "from sklearn.tree import DecisionTreeClassifier\n",
        "\n",
        "# Sampling Libraries\n",
        "import imblearn\n",
        "from imblearn.over_sampling import RandomOverSampler\n",
        "from imblearn.under_sampling import RandomUnderSampler\n",
        "from collections import Counter\n",
        "\n",
        "# spacy for basic processing, optional, can use nltk as well(lemmatisation etc.)\n",
        "import spacy\n",
        "\n",
        "#gensim for LDA\n",
        "import gensim\n",
        "import gensim.corpora as corpora\n",
        "from gensim.utils import simple_preprocess\n",
        "from gensim.models import CoherenceModel\n",
        "\n",
        "#plotting tools\n",
        "import pyLDAvis\n",
        "import pyLDAvis.gensim #dont skip this\n",
        "import matplotlib.pyplot as plt\n",
        "%matplotlib inline\n",
        "\n",
        "spacy.cli.download(\"en_core_web_sm\")\n",
        "\n",
        "# Keras Library\n",
        "import tensorflow as tf\n",
        "from keras.preprocessing.text import one_hot, Tokenizer\n",
        "from keras.models import Sequential\n",
        "from keras.layers.core import Activation, Dropout, Dense\n",
        "from keras.layers import Flatten, GlobalMaxPooling1D, Embedding, Conv1D, LSTM, Bidirectional\n",
        "from sklearn.model_selection import train_test_split\n",
        "from keras_preprocessing.sequence import pad_sequences\n",
        "from tensorflow.keras.regularizers import l2\n",
        "from keras import layers"
      ]
    },
    {
      "cell_type": "markdown",
      "id": "ca93c374",
      "metadata": {
        "id": "ca93c374"
      },
      "source": [
        "# Data Extraction"
      ]
    },
    {
      "cell_type": "code",
      "source": [
        "# from google.colab import files\n",
        "# uploads = files.upload()"
      ],
      "metadata": {
        "colab": {
          "base_uri": "https://localhost:8080/"
        },
        "id": "s9I1xkvDDPqC",
        "outputId": "f81d4150-b811-435d-d60d-9e4fa7616565"
      },
      "id": "s9I1xkvDDPqC",
      "execution_count": 48,
      "outputs": [
        {
          "output_type": "stream",
          "name": "stderr",
          "text": [
            "/usr/local/lib/python3.9/dist-packages/ipykernel/ipkernel.py:283: DeprecationWarning: `should_run_async` will not call `transform_cell` automatically in the future. Please pass the result to `transformed_cell` argument and any exception that happen during thetransform in `preprocessing_exc_tuple` in IPython 7.17 and above.\n",
            "  and should_run_async(code)\n"
          ]
        }
      ]
    },
    {
      "cell_type": "code",
      "source": [
        "from google.colab import drive \n",
        "drive.mount('/content/drive/')\n",
        "# https://drive.google.com/file/d/18TnYEH6B441nRi5aB0OCewkWiQLsEktr/view?usp=share_link\n",
        "# /content/Train.csv"
      ],
      "metadata": {
        "colab": {
          "base_uri": "https://localhost:8080/"
        },
        "id": "QnVrIs9jMnJ2",
        "outputId": "388cc103-b4e6-43c7-ccc5-0f3f6b2ac12f"
      },
      "id": "QnVrIs9jMnJ2",
      "execution_count": 6,
      "outputs": [
        {
          "output_type": "stream",
          "name": "stderr",
          "text": [
            "/usr/local/lib/python3.9/dist-packages/ipykernel/ipkernel.py:283: DeprecationWarning: `should_run_async` will not call `transform_cell` automatically in the future. Please pass the result to `transformed_cell` argument and any exception that happen during thetransform in `preprocessing_exc_tuple` in IPython 7.17 and above.\n",
            "  and should_run_async(code)\n"
          ]
        },
        {
          "output_type": "stream",
          "name": "stdout",
          "text": [
            "Drive already mounted at /content/drive/; to attempt to forcibly remount, call drive.mount(\"/content/drive/\", force_remount=True).\n"
          ]
        }
      ]
    },
    {
      "cell_type": "code",
      "source": [
        "train_path = '/content/drive/MyDrive/Colab Notebooks/Train.csv'\n",
        "cloud_path = '/content/drive/MyDrive/Colab Notebooks/cloud.png'"
      ],
      "metadata": {
        "colab": {
          "base_uri": "https://localhost:8080/"
        },
        "id": "P2zxLOG8Rlhh",
        "outputId": "497098c7-a425-4fe0-fd16-51e12c1a3339"
      },
      "id": "P2zxLOG8Rlhh",
      "execution_count": 7,
      "outputs": [
        {
          "output_type": "stream",
          "name": "stderr",
          "text": [
            "/usr/local/lib/python3.9/dist-packages/ipykernel/ipkernel.py:283: DeprecationWarning: `should_run_async` will not call `transform_cell` automatically in the future. Please pass the result to `transformed_cell` argument and any exception that happen during thetransform in `preprocessing_exc_tuple` in IPython 7.17 and above.\n",
            "  and should_run_async(code)\n"
          ]
        }
      ]
    },
    {
      "cell_type": "code",
      "execution_count": 8,
      "id": "129dd879",
      "metadata": {
        "id": "129dd879",
        "colab": {
          "base_uri": "https://localhost:8080/"
        },
        "outputId": "c9fd329d-0d69-4475-9a72-8c98ab0f65e7"
      },
      "outputs": [
        {
          "output_type": "stream",
          "name": "stderr",
          "text": [
            "/usr/local/lib/python3.9/dist-packages/ipykernel/ipkernel.py:283: DeprecationWarning: `should_run_async` will not call `transform_cell` automatically in the future. Please pass the result to `transformed_cell` argument and any exception that happen during thetransform in `preprocessing_exc_tuple` in IPython 7.17 and above.\n",
            "  and should_run_async(code)\n"
          ]
        }
      ],
      "source": [
        "# train_set = pd.read_csv('Train.csv')\n",
        "train_set = pd.read_csv(train_path)"
      ]
    },
    {
      "cell_type": "code",
      "execution_count": 52,
      "id": "80489a62",
      "metadata": {
        "colab": {
          "base_uri": "https://localhost:8080/",
          "height": 262
        },
        "id": "80489a62",
        "outputId": "8ae20067-990e-4ff4-f4e4-8ac5aa0e9069"
      },
      "outputs": [
        {
          "output_type": "stream",
          "name": "stderr",
          "text": [
            "/usr/local/lib/python3.9/dist-packages/ipykernel/ipkernel.py:283: DeprecationWarning: `should_run_async` will not call `transform_cell` automatically in the future. Please pass the result to `transformed_cell` argument and any exception that happen during thetransform in `preprocessing_exc_tuple` in IPython 7.17 and above.\n",
            "  and should_run_async(code)\n"
          ]
        },
        {
          "output_type": "execute_result",
          "data": {
            "text/plain": [
              "   overall                                             Review\n",
              "0        5  This a really cool (but time-tested) design. T...\n",
              "1        5  I liked the first pair so well I bought severa...\n",
              "2        4  I took them to the range to put them to the te...\n",
              "3        5  What can you say about a yoga block?  These ar...\n",
              "4        5  After reading many reviews I decided on this l..."
            ],
            "text/html": [
              "\n",
              "  <div id=\"df-96bce9b0-667a-49fb-a52b-cebc9a796f25\">\n",
              "    <div class=\"colab-df-container\">\n",
              "      <div>\n",
              "<style scoped>\n",
              "    .dataframe tbody tr th:only-of-type {\n",
              "        vertical-align: middle;\n",
              "    }\n",
              "\n",
              "    .dataframe tbody tr th {\n",
              "        vertical-align: top;\n",
              "    }\n",
              "\n",
              "    .dataframe thead th {\n",
              "        text-align: right;\n",
              "    }\n",
              "</style>\n",
              "<table border=\"1\" class=\"dataframe\">\n",
              "  <thead>\n",
              "    <tr style=\"text-align: right;\">\n",
              "      <th></th>\n",
              "      <th>overall</th>\n",
              "      <th>Review</th>\n",
              "    </tr>\n",
              "  </thead>\n",
              "  <tbody>\n",
              "    <tr>\n",
              "      <th>0</th>\n",
              "      <td>5</td>\n",
              "      <td>This a really cool (but time-tested) design. T...</td>\n",
              "    </tr>\n",
              "    <tr>\n",
              "      <th>1</th>\n",
              "      <td>5</td>\n",
              "      <td>I liked the first pair so well I bought severa...</td>\n",
              "    </tr>\n",
              "    <tr>\n",
              "      <th>2</th>\n",
              "      <td>4</td>\n",
              "      <td>I took them to the range to put them to the te...</td>\n",
              "    </tr>\n",
              "    <tr>\n",
              "      <th>3</th>\n",
              "      <td>5</td>\n",
              "      <td>What can you say about a yoga block?  These ar...</td>\n",
              "    </tr>\n",
              "    <tr>\n",
              "      <th>4</th>\n",
              "      <td>5</td>\n",
              "      <td>After reading many reviews I decided on this l...</td>\n",
              "    </tr>\n",
              "  </tbody>\n",
              "</table>\n",
              "</div>\n",
              "      <button class=\"colab-df-convert\" onclick=\"convertToInteractive('df-96bce9b0-667a-49fb-a52b-cebc9a796f25')\"\n",
              "              title=\"Convert this dataframe to an interactive table.\"\n",
              "              style=\"display:none;\">\n",
              "        \n",
              "  <svg xmlns=\"http://www.w3.org/2000/svg\" height=\"24px\"viewBox=\"0 0 24 24\"\n",
              "       width=\"24px\">\n",
              "    <path d=\"M0 0h24v24H0V0z\" fill=\"none\"/>\n",
              "    <path d=\"M18.56 5.44l.94 2.06.94-2.06 2.06-.94-2.06-.94-.94-2.06-.94 2.06-2.06.94zm-11 1L8.5 8.5l.94-2.06 2.06-.94-2.06-.94L8.5 2.5l-.94 2.06-2.06.94zm10 10l.94 2.06.94-2.06 2.06-.94-2.06-.94-.94-2.06-.94 2.06-2.06.94z\"/><path d=\"M17.41 7.96l-1.37-1.37c-.4-.4-.92-.59-1.43-.59-.52 0-1.04.2-1.43.59L10.3 9.45l-7.72 7.72c-.78.78-.78 2.05 0 2.83L4 21.41c.39.39.9.59 1.41.59.51 0 1.02-.2 1.41-.59l7.78-7.78 2.81-2.81c.8-.78.8-2.07 0-2.86zM5.41 20L4 18.59l7.72-7.72 1.47 1.35L5.41 20z\"/>\n",
              "  </svg>\n",
              "      </button>\n",
              "      \n",
              "  <style>\n",
              "    .colab-df-container {\n",
              "      display:flex;\n",
              "      flex-wrap:wrap;\n",
              "      gap: 12px;\n",
              "    }\n",
              "\n",
              "    .colab-df-convert {\n",
              "      background-color: #E8F0FE;\n",
              "      border: none;\n",
              "      border-radius: 50%;\n",
              "      cursor: pointer;\n",
              "      display: none;\n",
              "      fill: #1967D2;\n",
              "      height: 32px;\n",
              "      padding: 0 0 0 0;\n",
              "      width: 32px;\n",
              "    }\n",
              "\n",
              "    .colab-df-convert:hover {\n",
              "      background-color: #E2EBFA;\n",
              "      box-shadow: 0px 1px 2px rgba(60, 64, 67, 0.3), 0px 1px 3px 1px rgba(60, 64, 67, 0.15);\n",
              "      fill: #174EA6;\n",
              "    }\n",
              "\n",
              "    [theme=dark] .colab-df-convert {\n",
              "      background-color: #3B4455;\n",
              "      fill: #D2E3FC;\n",
              "    }\n",
              "\n",
              "    [theme=dark] .colab-df-convert:hover {\n",
              "      background-color: #434B5C;\n",
              "      box-shadow: 0px 1px 3px 1px rgba(0, 0, 0, 0.15);\n",
              "      filter: drop-shadow(0px 1px 2px rgba(0, 0, 0, 0.3));\n",
              "      fill: #FFFFFF;\n",
              "    }\n",
              "  </style>\n",
              "\n",
              "      <script>\n",
              "        const buttonEl =\n",
              "          document.querySelector('#df-96bce9b0-667a-49fb-a52b-cebc9a796f25 button.colab-df-convert');\n",
              "        buttonEl.style.display =\n",
              "          google.colab.kernel.accessAllowed ? 'block' : 'none';\n",
              "\n",
              "        async function convertToInteractive(key) {\n",
              "          const element = document.querySelector('#df-96bce9b0-667a-49fb-a52b-cebc9a796f25');\n",
              "          const dataTable =\n",
              "            await google.colab.kernel.invokeFunction('convertToInteractive',\n",
              "                                                     [key], {});\n",
              "          if (!dataTable) return;\n",
              "\n",
              "          const docLinkHtml = 'Like what you see? Visit the ' +\n",
              "            '<a target=\"_blank\" href=https://colab.research.google.com/notebooks/data_table.ipynb>data table notebook</a>'\n",
              "            + ' to learn more about interactive tables.';\n",
              "          element.innerHTML = '';\n",
              "          dataTable['output_type'] = 'display_data';\n",
              "          await google.colab.output.renderOutput(dataTable, element);\n",
              "          const docLink = document.createElement('div');\n",
              "          docLink.innerHTML = docLinkHtml;\n",
              "          element.appendChild(docLink);\n",
              "        }\n",
              "      </script>\n",
              "    </div>\n",
              "  </div>\n",
              "  "
            ]
          },
          "metadata": {},
          "execution_count": 52
        }
      ],
      "source": [
        "train_set.head()"
      ]
    },
    {
      "cell_type": "markdown",
      "id": "54f800b9",
      "metadata": {
        "id": "54f800b9"
      },
      "source": [
        "# Data Exploration and Visualization"
      ]
    },
    {
      "cell_type": "code",
      "execution_count": 53,
      "id": "ff5d7cbc",
      "metadata": {
        "colab": {
          "base_uri": "https://localhost:8080/",
          "height": 356
        },
        "id": "ff5d7cbc",
        "outputId": "8c4c9b44-1ecc-43e3-fe54-6d7a2960e335"
      },
      "outputs": [
        {
          "output_type": "stream",
          "name": "stderr",
          "text": [
            "/usr/local/lib/python3.9/dist-packages/ipykernel/ipkernel.py:283: DeprecationWarning: `should_run_async` will not call `transform_cell` automatically in the future. Please pass the result to `transformed_cell` argument and any exception that happen during thetransform in `preprocessing_exc_tuple` in IPython 7.17 and above.\n",
            "  and should_run_async(code)\n"
          ]
        },
        {
          "output_type": "execute_result",
          "data": {
            "text/plain": [
              "             overall\n",
              "count  222243.000000\n",
              "mean        4.394771\n",
              "std         0.985039\n",
              "min         1.000000\n",
              "25%         4.000000\n",
              "50%         5.000000\n",
              "75%         5.000000\n",
              "max         5.000000"
            ],
            "text/html": [
              "\n",
              "  <div id=\"df-eb260aa6-aba3-4448-9647-c28fb713449a\">\n",
              "    <div class=\"colab-df-container\">\n",
              "      <div>\n",
              "<style scoped>\n",
              "    .dataframe tbody tr th:only-of-type {\n",
              "        vertical-align: middle;\n",
              "    }\n",
              "\n",
              "    .dataframe tbody tr th {\n",
              "        vertical-align: top;\n",
              "    }\n",
              "\n",
              "    .dataframe thead th {\n",
              "        text-align: right;\n",
              "    }\n",
              "</style>\n",
              "<table border=\"1\" class=\"dataframe\">\n",
              "  <thead>\n",
              "    <tr style=\"text-align: right;\">\n",
              "      <th></th>\n",
              "      <th>overall</th>\n",
              "    </tr>\n",
              "  </thead>\n",
              "  <tbody>\n",
              "    <tr>\n",
              "      <th>count</th>\n",
              "      <td>222243.000000</td>\n",
              "    </tr>\n",
              "    <tr>\n",
              "      <th>mean</th>\n",
              "      <td>4.394771</td>\n",
              "    </tr>\n",
              "    <tr>\n",
              "      <th>std</th>\n",
              "      <td>0.985039</td>\n",
              "    </tr>\n",
              "    <tr>\n",
              "      <th>min</th>\n",
              "      <td>1.000000</td>\n",
              "    </tr>\n",
              "    <tr>\n",
              "      <th>25%</th>\n",
              "      <td>4.000000</td>\n",
              "    </tr>\n",
              "    <tr>\n",
              "      <th>50%</th>\n",
              "      <td>5.000000</td>\n",
              "    </tr>\n",
              "    <tr>\n",
              "      <th>75%</th>\n",
              "      <td>5.000000</td>\n",
              "    </tr>\n",
              "    <tr>\n",
              "      <th>max</th>\n",
              "      <td>5.000000</td>\n",
              "    </tr>\n",
              "  </tbody>\n",
              "</table>\n",
              "</div>\n",
              "      <button class=\"colab-df-convert\" onclick=\"convertToInteractive('df-eb260aa6-aba3-4448-9647-c28fb713449a')\"\n",
              "              title=\"Convert this dataframe to an interactive table.\"\n",
              "              style=\"display:none;\">\n",
              "        \n",
              "  <svg xmlns=\"http://www.w3.org/2000/svg\" height=\"24px\"viewBox=\"0 0 24 24\"\n",
              "       width=\"24px\">\n",
              "    <path d=\"M0 0h24v24H0V0z\" fill=\"none\"/>\n",
              "    <path d=\"M18.56 5.44l.94 2.06.94-2.06 2.06-.94-2.06-.94-.94-2.06-.94 2.06-2.06.94zm-11 1L8.5 8.5l.94-2.06 2.06-.94-2.06-.94L8.5 2.5l-.94 2.06-2.06.94zm10 10l.94 2.06.94-2.06 2.06-.94-2.06-.94-.94-2.06-.94 2.06-2.06.94z\"/><path d=\"M17.41 7.96l-1.37-1.37c-.4-.4-.92-.59-1.43-.59-.52 0-1.04.2-1.43.59L10.3 9.45l-7.72 7.72c-.78.78-.78 2.05 0 2.83L4 21.41c.39.39.9.59 1.41.59.51 0 1.02-.2 1.41-.59l7.78-7.78 2.81-2.81c.8-.78.8-2.07 0-2.86zM5.41 20L4 18.59l7.72-7.72 1.47 1.35L5.41 20z\"/>\n",
              "  </svg>\n",
              "      </button>\n",
              "      \n",
              "  <style>\n",
              "    .colab-df-container {\n",
              "      display:flex;\n",
              "      flex-wrap:wrap;\n",
              "      gap: 12px;\n",
              "    }\n",
              "\n",
              "    .colab-df-convert {\n",
              "      background-color: #E8F0FE;\n",
              "      border: none;\n",
              "      border-radius: 50%;\n",
              "      cursor: pointer;\n",
              "      display: none;\n",
              "      fill: #1967D2;\n",
              "      height: 32px;\n",
              "      padding: 0 0 0 0;\n",
              "      width: 32px;\n",
              "    }\n",
              "\n",
              "    .colab-df-convert:hover {\n",
              "      background-color: #E2EBFA;\n",
              "      box-shadow: 0px 1px 2px rgba(60, 64, 67, 0.3), 0px 1px 3px 1px rgba(60, 64, 67, 0.15);\n",
              "      fill: #174EA6;\n",
              "    }\n",
              "\n",
              "    [theme=dark] .colab-df-convert {\n",
              "      background-color: #3B4455;\n",
              "      fill: #D2E3FC;\n",
              "    }\n",
              "\n",
              "    [theme=dark] .colab-df-convert:hover {\n",
              "      background-color: #434B5C;\n",
              "      box-shadow: 0px 1px 3px 1px rgba(0, 0, 0, 0.15);\n",
              "      filter: drop-shadow(0px 1px 2px rgba(0, 0, 0, 0.3));\n",
              "      fill: #FFFFFF;\n",
              "    }\n",
              "  </style>\n",
              "\n",
              "      <script>\n",
              "        const buttonEl =\n",
              "          document.querySelector('#df-eb260aa6-aba3-4448-9647-c28fb713449a button.colab-df-convert');\n",
              "        buttonEl.style.display =\n",
              "          google.colab.kernel.accessAllowed ? 'block' : 'none';\n",
              "\n",
              "        async function convertToInteractive(key) {\n",
              "          const element = document.querySelector('#df-eb260aa6-aba3-4448-9647-c28fb713449a');\n",
              "          const dataTable =\n",
              "            await google.colab.kernel.invokeFunction('convertToInteractive',\n",
              "                                                     [key], {});\n",
              "          if (!dataTable) return;\n",
              "\n",
              "          const docLinkHtml = 'Like what you see? Visit the ' +\n",
              "            '<a target=\"_blank\" href=https://colab.research.google.com/notebooks/data_table.ipynb>data table notebook</a>'\n",
              "            + ' to learn more about interactive tables.';\n",
              "          element.innerHTML = '';\n",
              "          dataTable['output_type'] = 'display_data';\n",
              "          await google.colab.output.renderOutput(dataTable, element);\n",
              "          const docLink = document.createElement('div');\n",
              "          docLink.innerHTML = docLinkHtml;\n",
              "          element.appendChild(docLink);\n",
              "        }\n",
              "      </script>\n",
              "    </div>\n",
              "  </div>\n",
              "  "
            ]
          },
          "metadata": {},
          "execution_count": 53
        }
      ],
      "source": [
        "train_set.describe()"
      ]
    },
    {
      "cell_type": "code",
      "execution_count": 54,
      "id": "9019e90a",
      "metadata": {
        "colab": {
          "base_uri": "https://localhost:8080/"
        },
        "id": "9019e90a",
        "outputId": "d963ef7d-f1f8-4726-ff1c-56a99a56b550"
      },
      "outputs": [
        {
          "output_type": "stream",
          "name": "stdout",
          "text": [
            "<class 'pandas.core.frame.DataFrame'>\n",
            "RangeIndex: 222243 entries, 0 to 222242\n",
            "Data columns (total 2 columns):\n",
            " #   Column   Non-Null Count   Dtype \n",
            "---  ------   --------------   ----- \n",
            " 0   overall  222243 non-null  int64 \n",
            " 1   Review   222243 non-null  object\n",
            "dtypes: int64(1), object(1)\n",
            "memory usage: 3.4+ MB\n"
          ]
        },
        {
          "output_type": "stream",
          "name": "stderr",
          "text": [
            "/usr/local/lib/python3.9/dist-packages/ipykernel/ipkernel.py:283: DeprecationWarning: `should_run_async` will not call `transform_cell` automatically in the future. Please pass the result to `transformed_cell` argument and any exception that happen during thetransform in `preprocessing_exc_tuple` in IPython 7.17 and above.\n",
            "  and should_run_async(code)\n"
          ]
        }
      ],
      "source": [
        "train_set.info()"
      ]
    },
    {
      "cell_type": "code",
      "execution_count": 55,
      "id": "7c466dac",
      "metadata": {
        "colab": {
          "base_uri": "https://localhost:8080/"
        },
        "id": "7c466dac",
        "outputId": "2bd039d0-20a1-4855-a846-7860099a299f"
      },
      "outputs": [
        {
          "output_type": "stream",
          "name": "stderr",
          "text": [
            "/usr/local/lib/python3.9/dist-packages/ipykernel/ipkernel.py:283: DeprecationWarning: `should_run_async` will not call `transform_cell` automatically in the future. Please pass the result to `transformed_cell` argument and any exception that happen during thetransform in `preprocessing_exc_tuple` in IPython 7.17 and above.\n",
            "  and should_run_async(code)\n"
          ]
        },
        {
          "output_type": "execute_result",
          "data": {
            "text/plain": [
              "5    141169\n",
              "4     48748\n",
              "3     17947\n",
              "2      7650\n",
              "1      6729\n",
              "Name: overall, dtype: int64"
            ]
          },
          "metadata": {},
          "execution_count": 55
        }
      ],
      "source": [
        "train_set['overall'].value_counts()"
      ]
    },
    {
      "cell_type": "code",
      "execution_count": 56,
      "id": "d1c71124",
      "metadata": {
        "id": "d1c71124",
        "colab": {
          "base_uri": "https://localhost:8080/"
        },
        "outputId": "05c42d37-fb20-4346-f84b-5f8da679ba4e"
      },
      "outputs": [
        {
          "output_type": "stream",
          "name": "stderr",
          "text": [
            "/usr/local/lib/python3.9/dist-packages/ipykernel/ipkernel.py:283: DeprecationWarning: `should_run_async` will not call `transform_cell` automatically in the future. Please pass the result to `transformed_cell` argument and any exception that happen during thetransform in `preprocessing_exc_tuple` in IPython 7.17 and above.\n",
            "  and should_run_async(code)\n"
          ]
        }
      ],
      "source": [
        "#Function to Create Wordcloud\n",
        "def transform_format(val):\n",
        "    if val == 0:\n",
        "        return 255\n",
        "    else:\n",
        "        return val\n",
        "    \n",
        "def create_wordcloud(text):\n",
        "    mask = np.array(Image.open(cloud_path))\n",
        "    \n",
        "    mask = np.ndarray((mask.shape[0],mask.shape[1]), np.int32)\n",
        "    for i in range(len(mask)):\n",
        "        mask[i] = list(map(transform_format, mask[i]))\n",
        "    \n",
        "    wc = WordCloud(background_color='white',\n",
        "    mask = mask,\n",
        "    max_words=3000,\n",
        "    repeat=True)\n",
        "    wc.generate(str(text))\n",
        "    wc.to_file('wc.png')\n",
        "    print('Word Cloud Saved Successfully')\n",
        "    path='wc.png'\n",
        "    display(Image.open(path))"
      ]
    },
    {
      "cell_type": "code",
      "execution_count": 57,
      "id": "c787fc55",
      "metadata": {
        "colab": {
          "base_uri": "https://localhost:8080/",
          "height": 537
        },
        "id": "c787fc55",
        "outputId": "653be209-c3c7-4f89-de65-b33b857ac623"
      },
      "outputs": [
        {
          "output_type": "stream",
          "name": "stderr",
          "text": [
            "/usr/local/lib/python3.9/dist-packages/ipykernel/ipkernel.py:283: DeprecationWarning: `should_run_async` will not call `transform_cell` automatically in the future. Please pass the result to `transformed_cell` argument and any exception that happen during thetransform in `preprocessing_exc_tuple` in IPython 7.17 and above.\n",
            "  and should_run_async(code)\n",
            "/usr/local/lib/python3.9/dist-packages/wordcloud/wordcloud.py:106: MatplotlibDeprecationWarning: The get_cmap function was deprecated in Matplotlib 3.7 and will be removed two minor releases later. Use ``matplotlib.colormaps[name]`` or ``matplotlib.colormaps.get_cmap(obj)`` instead.\n",
            "  self.colormap = plt.cm.get_cmap(colormap)\n"
          ]
        },
        {
          "output_type": "stream",
          "name": "stdout",
          "text": [
            "Word Cloud Saved Successfully\n"
          ]
        },
        {
          "output_type": "display_data",
          "data": {
            "text/plain": [
              "<PIL.PngImagePlugin.PngImageFile image mode=RGB size=698x411 at 0x7F2FD6DA7400>"
            ],
            "image/png": "[encoded data removed]"
          },
          "metadata": {}
        }
      ],
      "source": [
        "# Create one huge string containing all the reviews\n",
        "reviews = ' '.join(train_set['Review'])\n",
        "\n",
        "# Creating the word cloud\n",
        "create_wordcloud(reviews)"
      ]
    },
    {
      "cell_type": "code",
      "execution_count": 58,
      "id": "c21c55d2",
      "metadata": {
        "colab": {
          "base_uri": "https://localhost:8080/",
          "height": 466
        },
        "id": "c21c55d2",
        "outputId": "0fd92269-b4b1-4a57-df39-bda4cb889548"
      },
      "outputs": [
        {
          "output_type": "stream",
          "name": "stderr",
          "text": [
            "/usr/local/lib/python3.9/dist-packages/ipykernel/ipkernel.py:283: DeprecationWarning: `should_run_async` will not call `transform_cell` automatically in the future. Please pass the result to `transformed_cell` argument and any exception that happen during thetransform in `preprocessing_exc_tuple` in IPython 7.17 and above.\n",
            "  and should_run_async(code)\n"
          ]
        },
        {
          "output_type": "display_data",
          "data": {
            "text/plain": [
              "<Figure size 600x400 with 1 Axes>"
            ],
            "image/png": "[encoded data removed]"
          },
          "metadata": {}
        }
      ],
      "source": [
        "# Calculating the value counts of each rating\n",
        "ratings= train_set['overall'].value_counts()\n",
        "\n",
        "# Viewing the ratings value counts using a bar chart\n",
        "plt.figure(figsize=(6, 4))\n",
        "plt.bar(ratings.index, ratings.values)\n",
        "plt.xlabel('Rating')\n",
        "plt.ylabel('Number of Reviews')\n",
        "plt.title('Distribution of Reviews by Rating')\n",
        "plt.show()"
      ]
    },
    {
      "cell_type": "markdown",
      "id": "0ed480b2",
      "metadata": {
        "id": "0ed480b2"
      },
      "source": [
        "Here in the bar chart above, it is shown that the proportions of data is not distributed as reviews with {5} ratings are more than all other reviews cumulatively."
      ]
    },
    {
      "cell_type": "code",
      "execution_count": 59,
      "id": "32f8368e",
      "metadata": {
        "colab": {
          "base_uri": "https://localhost:8080/",
          "height": 528
        },
        "id": "32f8368e",
        "outputId": "bf6c5af9-a928-46f0-a941-a4314a1ca692"
      },
      "outputs": [
        {
          "output_type": "stream",
          "name": "stderr",
          "text": [
            "/usr/local/lib/python3.9/dist-packages/ipykernel/ipkernel.py:283: DeprecationWarning: `should_run_async` will not call `transform_cell` automatically in the future. Please pass the result to `transformed_cell` argument and any exception that happen during thetransform in `preprocessing_exc_tuple` in IPython 7.17 and above.\n",
            "  and should_run_async(code)\n"
          ]
        },
        {
          "output_type": "display_data",
          "data": {
            "text/plain": [
              "<Figure size 640x480 with 1 Axes>"
            ],
            "image/png": "[encoded data removed]"
          },
          "metadata": {}
        }
      ],
      "source": [
        "# Adding a column called review_length to the train df\n",
        "train_set['review_length']=train_set['Review'].apply(len)\n",
        "\n",
        "# Creating a scatter plot to view the relationship between the rating and the review length\n",
        "sns.scatterplot(x='review_length', y='overall', data=train_set)\n",
        "plt.xlabel('Review Length')\n",
        "plt.ylabel('Rating')\n",
        "plt.title('Relationship between Review Length and Rating')\n",
        "plt.show()"
      ]
    },
    {
      "cell_type": "markdown",
      "id": "8de3bbb9",
      "metadata": {
        "id": "8de3bbb9"
      },
      "source": [
        " Using the scatter plot above between the ratings and the length of the reviews shows that higher ratings tend to have longer reviews."
      ]
    },
    {
      "cell_type": "code",
      "execution_count": 60,
      "id": "776b245f",
      "metadata": {
        "colab": {
          "base_uri": "https://localhost:8080/",
          "height": 484
        },
        "id": "776b245f",
        "outputId": "11ae1f68-b2ad-4f14-d16e-9289cedce652"
      },
      "outputs": [
        {
          "output_type": "stream",
          "name": "stderr",
          "text": [
            "/usr/local/lib/python3.9/dist-packages/ipykernel/ipkernel.py:283: DeprecationWarning: `should_run_async` will not call `transform_cell` automatically in the future. Please pass the result to `transformed_cell` argument and any exception that happen during thetransform in `preprocessing_exc_tuple` in IPython 7.17 and above.\n",
            "  and should_run_async(code)\n"
          ]
        },
        {
          "output_type": "display_data",
          "data": {
            "text/plain": [
              "<Figure size 640x480 with 1 Axes>"
            ],
            "image/png": "[encoded data removed]"
          },
          "metadata": {}
        }
      ],
      "source": [
        "# calculating the proportion of positive vs negative reviews\n",
        "pos = train_set[train_set['overall'] >= 4]\n",
        "neg = train_set[train_set['overall'] <= 2]\n",
        "prop= [len(pos)/len(train_set), len(neg)/len(train_set)]\n",
        "\n",
        "# pie chart of negative vs positive ratings\n",
        "labels = ['Positive Reviews', 'Negative Reviews']\n",
        "plt.pie(prop, labels=labels, autopct='%1.1f%%')\n",
        "plt.title('Proportion of Positive vs Negative Reviews')\n",
        "plt.show()"
      ]
    },
    {
      "cell_type": "markdown",
      "id": "6c35eaa2",
      "metadata": {
        "id": "6c35eaa2"
      },
      "source": [
        "In the pie chart above, {1,2} ratings were considered to be the \"Negative Reviews\" and {4,5} ratings were considered to be the \"Positive Reviews\". As mentioned above, reviews with a rating of {5} are more than all other reviews, so this pie chart is quite logical."
      ]
    },
    {
      "cell_type": "code",
      "execution_count": 61,
      "id": "830710f3",
      "metadata": {
        "colab": {
          "base_uri": "https://localhost:8080/",
          "height": 262
        },
        "id": "830710f3",
        "outputId": "583a81d7-5753-46d8-bfab-caf9fc29aac0"
      },
      "outputs": [
        {
          "output_type": "stream",
          "name": "stderr",
          "text": [
            "/usr/local/lib/python3.9/dist-packages/ipykernel/ipkernel.py:283: DeprecationWarning: `should_run_async` will not call `transform_cell` automatically in the future. Please pass the result to `transformed_cell` argument and any exception that happen during thetransform in `preprocessing_exc_tuple` in IPython 7.17 and above.\n",
            "  and should_run_async(code)\n"
          ]
        },
        {
          "output_type": "execute_result",
          "data": {
            "text/plain": [
              "   overall                                             Review\n",
              "0        5  This a really cool (but time-tested) design. T...\n",
              "1        5  I liked the first pair so well I bought severa...\n",
              "2        4  I took them to the range to put them to the te...\n",
              "3        5  What can you say about a yoga block?  These ar...\n",
              "4        5  After reading many reviews I decided on this l..."
            ],
            "text/html": [
              "\n",
              "  <div id=\"df-258d3e6f-3e7f-4690-93f1-51a0a766377e\">\n",
              "    <div class=\"colab-df-container\">\n",
              "      <div>\n",
              "<style scoped>\n",
              "    .dataframe tbody tr th:only-of-type {\n",
              "        vertical-align: middle;\n",
              "    }\n",
              "\n",
              "    .dataframe tbody tr th {\n",
              "        vertical-align: top;\n",
              "    }\n",
              "\n",
              "    .dataframe thead th {\n",
              "        text-align: right;\n",
              "    }\n",
              "</style>\n",
              "<table border=\"1\" class=\"dataframe\">\n",
              "  <thead>\n",
              "    <tr style=\"text-align: right;\">\n",
              "      <th></th>\n",
              "      <th>overall</th>\n",
              "      <th>Review</th>\n",
              "    </tr>\n",
              "  </thead>\n",
              "  <tbody>\n",
              "    <tr>\n",
              "      <th>0</th>\n",
              "      <td>5</td>\n",
              "      <td>This a really cool (but time-tested) design. T...</td>\n",
              "    </tr>\n",
              "    <tr>\n",
              "      <th>1</th>\n",
              "      <td>5</td>\n",
              "      <td>I liked the first pair so well I bought severa...</td>\n",
              "    </tr>\n",
              "    <tr>\n",
              "      <th>2</th>\n",
              "      <td>4</td>\n",
              "      <td>I took them to the range to put them to the te...</td>\n",
              "    </tr>\n",
              "    <tr>\n",
              "      <th>3</th>\n",
              "      <td>5</td>\n",
              "      <td>What can you say about a yoga block?  These ar...</td>\n",
              "    </tr>\n",
              "    <tr>\n",
              "      <th>4</th>\n",
              "      <td>5</td>\n",
              "      <td>After reading many reviews I decided on this l...</td>\n",
              "    </tr>\n",
              "  </tbody>\n",
              "</table>\n",
              "</div>\n",
              "      <button class=\"colab-df-convert\" onclick=\"convertToInteractive('df-258d3e6f-3e7f-4690-93f1-51a0a766377e')\"\n",
              "              title=\"Convert this dataframe to an interactive table.\"\n",
              "              style=\"display:none;\">\n",
              "        \n",
              "  <svg xmlns=\"http://www.w3.org/2000/svg\" height=\"24px\"viewBox=\"0 0 24 24\"\n",
              "       width=\"24px\">\n",
              "    <path d=\"M0 0h24v24H0V0z\" fill=\"none\"/>\n",
              "    <path d=\"M18.56 5.44l.94 2.06.94-2.06 2.06-.94-2.06-.94-.94-2.06-.94 2.06-2.06.94zm-11 1L8.5 8.5l.94-2.06 2.06-.94-2.06-.94L8.5 2.5l-.94 2.06-2.06.94zm10 10l.94 2.06.94-2.06 2.06-.94-2.06-.94-.94-2.06-.94 2.06-2.06.94z\"/><path d=\"M17.41 7.96l-1.37-1.37c-.4-.4-.92-.59-1.43-.59-.52 0-1.04.2-1.43.59L10.3 9.45l-7.72 7.72c-.78.78-.78 2.05 0 2.83L4 21.41c.39.39.9.59 1.41.59.51 0 1.02-.2 1.41-.59l7.78-7.78 2.81-2.81c.8-.78.8-2.07 0-2.86zM5.41 20L4 18.59l7.72-7.72 1.47 1.35L5.41 20z\"/>\n",
              "  </svg>\n",
              "      </button>\n",
              "      \n",
              "  <style>\n",
              "    .colab-df-container {\n",
              "      display:flex;\n",
              "      flex-wrap:wrap;\n",
              "      gap: 12px;\n",
              "    }\n",
              "\n",
              "    .colab-df-convert {\n",
              "      background-color: #E8F0FE;\n",
              "      border: none;\n",
              "      border-radius: 50%;\n",
              "      cursor: pointer;\n",
              "      display: none;\n",
              "      fill: #1967D2;\n",
              "      height: 32px;\n",
              "      padding: 0 0 0 0;\n",
              "      width: 32px;\n",
              "    }\n",
              "\n",
              "    .colab-df-convert:hover {\n",
              "      background-color: #E2EBFA;\n",
              "      box-shadow: 0px 1px 2px rgba(60, 64, 67, 0.3), 0px 1px 3px 1px rgba(60, 64, 67, 0.15);\n",
              "      fill: #174EA6;\n",
              "    }\n",
              "\n",
              "    [theme=dark] .colab-df-convert {\n",
              "      background-color: #3B4455;\n",
              "      fill: #D2E3FC;\n",
              "    }\n",
              "\n",
              "    [theme=dark] .colab-df-convert:hover {\n",
              "      background-color: #434B5C;\n",
              "      box-shadow: 0px 1px 3px 1px rgba(0, 0, 0, 0.15);\n",
              "      filter: drop-shadow(0px 1px 2px rgba(0, 0, 0, 0.3));\n",
              "      fill: #FFFFFF;\n",
              "    }\n",
              "  </style>\n",
              "\n",
              "      <script>\n",
              "        const buttonEl =\n",
              "          document.querySelector('#df-258d3e6f-3e7f-4690-93f1-51a0a766377e button.colab-df-convert');\n",
              "        buttonEl.style.display =\n",
              "          google.colab.kernel.accessAllowed ? 'block' : 'none';\n",
              "\n",
              "        async function convertToInteractive(key) {\n",
              "          const element = document.querySelector('#df-258d3e6f-3e7f-4690-93f1-51a0a766377e');\n",
              "          const dataTable =\n",
              "            await google.colab.kernel.invokeFunction('convertToInteractive',\n",
              "                                                     [key], {});\n",
              "          if (!dataTable) return;\n",
              "\n",
              "          const docLinkHtml = 'Like what you see? Visit the ' +\n",
              "            '<a target=\"_blank\" href=https://colab.research.google.com/notebooks/data_table.ipynb>data table notebook</a>'\n",
              "            + ' to learn more about interactive tables.';\n",
              "          element.innerHTML = '';\n",
              "          dataTable['output_type'] = 'display_data';\n",
              "          await google.colab.output.renderOutput(dataTable, element);\n",
              "          const docLink = document.createElement('div');\n",
              "          docLink.innerHTML = docLinkHtml;\n",
              "          element.appendChild(docLink);\n",
              "        }\n",
              "      </script>\n",
              "    </div>\n",
              "  </div>\n",
              "  "
            ]
          },
          "metadata": {},
          "execution_count": 61
        }
      ],
      "source": [
        "train_set = train_set.drop('review_length', axis=1)\n",
        "train_set.head()"
      ]
    },
    {
      "cell_type": "markdown",
      "id": "06734b3f",
      "metadata": {
        "id": "06734b3f"
      },
      "source": [
        "# Text Processing and Normalization"
      ]
    },
    {
      "cell_type": "markdown",
      "id": "fc27f57d",
      "metadata": {
        "id": "fc27f57d"
      },
      "source": [
        "We will talk about the basic steps of text preprocessing. \n",
        "These steps are needed for transferring text from human language to machine-readable format for further processing. \n",
        "\n",
        "1. Drop duplicates if any before pre-processing\n",
        "2. Remove html links\n",
        "3. Remove accented characters\n",
        "4. Convert to lower case\n",
        "5. Remove digits\n",
        "6. Fix contractions\n",
        "7. Tokenization\n",
        "\n",
        "Now depending on the users input the following techniques are applied\n",
        "1. Stemming with stop words removal\n",
        "2. lemmatizing with stop words removal\n",
        "3. Stemming with punctuation removal\n",
        "4. lemmatizing with punctuation removal\n",
        "5. Stemming with stop words removal and punctuation removal\n",
        "6. lemmatizing with stop words removal and punctuation removal\n",
        "\n",
        "\n",
        "different combination of techniques are listed above in order to be able to evaluate the trade off between different text processing techniques and measure their effectiveness for the current data set.\n",
        "\n"
      ]
    },
    {
      "cell_type": "code",
      "execution_count": 9,
      "id": "534a1708",
      "metadata": {
        "colab": {
          "base_uri": "https://localhost:8080/",
          "height": 479
        },
        "id": "534a1708",
        "outputId": "c9a2a119-77d7-4a16-f242-57d302ab9ab8"
      },
      "outputs": [
        {
          "output_type": "stream",
          "name": "stderr",
          "text": [
            "/usr/local/lib/python3.9/dist-packages/ipykernel/ipkernel.py:283: DeprecationWarning: `should_run_async` will not call `transform_cell` automatically in the future. Please pass the result to `transformed_cell` argument and any exception that happen during thetransform in `preprocessing_exc_tuple` in IPython 7.17 and above.\n",
            "  and should_run_async(code)\n"
          ]
        },
        {
          "output_type": "execute_result",
          "data": {
            "text/plain": [
              "        overall                                             Review\n",
              "0             5  This a really cool (but time-tested) design. T...\n",
              "1             5  I liked the first pair so well I bought severa...\n",
              "2             4  I took them to the range to put them to the te...\n",
              "3             5  What can you say about a yoga block?  These ar...\n",
              "4             5  After reading many reviews I decided on this l...\n",
              "...         ...                                                ...\n",
              "222238        2  I wear them for running and go to gym, wearing...\n",
              "222239        4  Nice and big canister of bear spray.  Only obj...\n",
              "222240        5  I wanted an inexpensive 3wt for ponds and tigh...\n",
              "222241        5  I saw this type of knife in the hands of rice ...\n",
              "222242        5  This is probably the best compact bike pump I'...\n",
              "\n",
              "[222209 rows x 2 columns]"
            ],
            "text/html": [
              "\n",
              "  <div id=\"df-9d1fcae1-f30b-4eae-b288-c9207beebe47\">\n",
              "    <div class=\"colab-df-container\">\n",
              "      <div>\n",
              "<style scoped>\n",
              "    .dataframe tbody tr th:only-of-type {\n",
              "        vertical-align: middle;\n",
              "    }\n",
              "\n",
              "    .dataframe tbody tr th {\n",
              "        vertical-align: top;\n",
              "    }\n",
              "\n",
              "    .dataframe thead th {\n",
              "        text-align: right;\n",
              "    }\n",
              "</style>\n",
              "<table border=\"1\" class=\"dataframe\">\n",
              "  <thead>\n",
              "    <tr style=\"text-align: right;\">\n",
              "      <th></th>\n",
              "      <th>overall</th>\n",
              "      <th>Review</th>\n",
              "    </tr>\n",
              "  </thead>\n",
              "  <tbody>\n",
              "    <tr>\n",
              "      <th>0</th>\n",
              "      <td>5</td>\n",
              "      <td>This a really cool (but time-tested) design. T...</td>\n",
              "    </tr>\n",
              "    <tr>\n",
              "      <th>1</th>\n",
              "      <td>5</td>\n",
              "      <td>I liked the first pair so well I bought severa...</td>\n",
              "    </tr>\n",
              "    <tr>\n",
              "      <th>2</th>\n",
              "      <td>4</td>\n",
              "      <td>I took them to the range to put them to the te...</td>\n",
              "    </tr>\n",
              "    <tr>\n",
              "      <th>3</th>\n",
              "      <td>5</td>\n",
              "      <td>What can you say about a yoga block?  These ar...</td>\n",
              "    </tr>\n",
              "    <tr>\n",
              "      <th>4</th>\n",
              "      <td>5</td>\n",
              "      <td>After reading many reviews I decided on this l...</td>\n",
              "    </tr>\n",
              "    <tr>\n",
              "      <th>...</th>\n",
              "      <td>...</td>\n",
              "      <td>...</td>\n",
              "    </tr>\n",
              "    <tr>\n",
              "      <th>222238</th>\n",
              "      <td>2</td>\n",
              "      <td>I wear them for running and go to gym, wearing...</td>\n",
              "    </tr>\n",
              "    <tr>\n",
              "      <th>222239</th>\n",
              "      <td>4</td>\n",
              "      <td>Nice and big canister of bear spray.  Only obj...</td>\n",
              "    </tr>\n",
              "    <tr>\n",
              "      <th>222240</th>\n",
              "      <td>5</td>\n",
              "      <td>I wanted an inexpensive 3wt for ponds and tigh...</td>\n",
              "    </tr>\n",
              "    <tr>\n",
              "      <th>222241</th>\n",
              "      <td>5</td>\n",
              "      <td>I saw this type of knife in the hands of rice ...</td>\n",
              "    </tr>\n",
              "    <tr>\n",
              "      <th>222242</th>\n",
              "      <td>5</td>\n",
              "      <td>This is probably the best compact bike pump I'...</td>\n",
              "    </tr>\n",
              "  </tbody>\n",
              "</table>\n",
              "<p>222209 rows × 2 columns</p>\n",
              "</div>\n",
              "      <button class=\"colab-df-convert\" onclick=\"convertToInteractive('df-9d1fcae1-f30b-4eae-b288-c9207beebe47')\"\n",
              "              title=\"Convert this dataframe to an interactive table.\"\n",
              "              style=\"display:none;\">\n",
              "        \n",
              "  <svg xmlns=\"http://www.w3.org/2000/svg\" height=\"24px\"viewBox=\"0 0 24 24\"\n",
              "       width=\"24px\">\n",
              "    <path d=\"M0 0h24v24H0V0z\" fill=\"none\"/>\n",
              "    <path d=\"M18.56 5.44l.94 2.06.94-2.06 2.06-.94-2.06-.94-.94-2.06-.94 2.06-2.06.94zm-11 1L8.5 8.5l.94-2.06 2.06-.94-2.06-.94L8.5 2.5l-.94 2.06-2.06.94zm10 10l.94 2.06.94-2.06 2.06-.94-2.06-.94-.94-2.06-.94 2.06-2.06.94z\"/><path d=\"M17.41 7.96l-1.37-1.37c-.4-.4-.92-.59-1.43-.59-.52 0-1.04.2-1.43.59L10.3 9.45l-7.72 7.72c-.78.78-.78 2.05 0 2.83L4 21.41c.39.39.9.59 1.41.59.51 0 1.02-.2 1.41-.59l7.78-7.78 2.81-2.81c.8-.78.8-2.07 0-2.86zM5.41 20L4 18.59l7.72-7.72 1.47 1.35L5.41 20z\"/>\n",
              "  </svg>\n",
              "      </button>\n",
              "      \n",
              "  <style>\n",
              "    .colab-df-container {\n",
              "      display:flex;\n",
              "      flex-wrap:wrap;\n",
              "      gap: 12px;\n",
              "    }\n",
              "\n",
              "    .colab-df-convert {\n",
              "      background-color: #E8F0FE;\n",
              "      border: none;\n",
              "      border-radius: 50%;\n",
              "      cursor: pointer;\n",
              "      display: none;\n",
              "      fill: #1967D2;\n",
              "      height: 32px;\n",
              "      padding: 0 0 0 0;\n",
              "      width: 32px;\n",
              "    }\n",
              "\n",
              "    .colab-df-convert:hover {\n",
              "      background-color: #E2EBFA;\n",
              "      box-shadow: 0px 1px 2px rgba(60, 64, 67, 0.3), 0px 1px 3px 1px rgba(60, 64, 67, 0.15);\n",
              "      fill: #174EA6;\n",
              "    }\n",
              "\n",
              "    [theme=dark] .colab-df-convert {\n",
              "      background-color: #3B4455;\n",
              "      fill: #D2E3FC;\n",
              "    }\n",
              "\n",
              "    [theme=dark] .colab-df-convert:hover {\n",
              "      background-color: #434B5C;\n",
              "      box-shadow: 0px 1px 3px 1px rgba(0, 0, 0, 0.15);\n",
              "      filter: drop-shadow(0px 1px 2px rgba(0, 0, 0, 0.3));\n",
              "      fill: #FFFFFF;\n",
              "    }\n",
              "  </style>\n",
              "\n",
              "      <script>\n",
              "        const buttonEl =\n",
              "          document.querySelector('#df-9d1fcae1-f30b-4eae-b288-c9207beebe47 button.colab-df-convert');\n",
              "        buttonEl.style.display =\n",
              "          google.colab.kernel.accessAllowed ? 'block' : 'none';\n",
              "\n",
              "        async function convertToInteractive(key) {\n",
              "          const element = document.querySelector('#df-9d1fcae1-f30b-4eae-b288-c9207beebe47');\n",
              "          const dataTable =\n",
              "            await google.colab.kernel.invokeFunction('convertToInteractive',\n",
              "                                                     [key], {});\n",
              "          if (!dataTable) return;\n",
              "\n",
              "          const docLinkHtml = 'Like what you see? Visit the ' +\n",
              "            '<a target=\"_blank\" href=https://colab.research.google.com/notebooks/data_table.ipynb>data table notebook</a>'\n",
              "            + ' to learn more about interactive tables.';\n",
              "          element.innerHTML = '';\n",
              "          dataTable['output_type'] = 'display_data';\n",
              "          await google.colab.output.renderOutput(dataTable, element);\n",
              "          const docLink = document.createElement('div');\n",
              "          docLink.innerHTML = docLinkHtml;\n",
              "          element.appendChild(docLink);\n",
              "        }\n",
              "      </script>\n",
              "    </div>\n",
              "  </div>\n",
              "  "
            ]
          },
          "metadata": {},
          "execution_count": 9
        }
      ],
      "source": [
        "# Drop duplicates from dataframe if any\n",
        "train_set.drop_duplicates()"
      ]
    },
    {
      "cell_type": "code",
      "execution_count": 10,
      "id": "e3609026",
      "metadata": {
        "id": "e3609026",
        "colab": {
          "base_uri": "https://localhost:8080/"
        },
        "outputId": "3b32eae0-e28d-42b9-ac69-21241a298552"
      },
      "outputs": [
        {
          "output_type": "stream",
          "name": "stderr",
          "text": [
            "/usr/local/lib/python3.9/dist-packages/ipykernel/ipkernel.py:283: DeprecationWarning: `should_run_async` will not call `transform_cell` automatically in the future. Please pass the result to `transformed_cell` argument and any exception that happen during thetransform in `preprocessing_exc_tuple` in IPython 7.17 and above.\n",
            "  and should_run_async(code)\n"
          ]
        }
      ],
      "source": [
        "punc = string.punctuation # list of punctuations to be removed later\n",
        "stop_words = set(stopwords.words('english')) # list of stop words to be removed later\n",
        "stop_words -= set(['no', 'not', 'nor', 'but']) # eliminating those words in order not to bias the sentiment later\n",
        "lemmatizer = WordNetLemmatizer() #lemmatizer\n",
        "stemmer = PorterStemmer() #stemmer\n",
        "\n",
        "\n",
        "def remove_html(text):\n",
        "    html_pattern = re.compile('<.*?>')\n",
        "    return html_pattern.sub(r'', text)\n",
        "\n",
        "def remove_accented_chars(text):\n",
        "    #This function removes accented characters from a string.\n",
        "    text = unicodedata.normalize('NFKD', text).encode('ASCII', 'ignore').decode('utf-8')\n",
        "    return text"
      ]
    },
    {
      "cell_type": "code",
      "execution_count": 11,
      "id": "65de43a1",
      "metadata": {
        "id": "65de43a1",
        "colab": {
          "base_uri": "https://localhost:8080/"
        },
        "outputId": "7fbc7e17-b56a-498f-b463-c6ec55f1adef"
      },
      "outputs": [
        {
          "output_type": "stream",
          "name": "stderr",
          "text": [
            "/usr/local/lib/python3.9/dist-packages/ipykernel/ipkernel.py:283: DeprecationWarning: `should_run_async` will not call `transform_cell` automatically in the future. Please pass the result to `transformed_cell` argument and any exception that happen during thetransform in `preprocessing_exc_tuple` in IPython 7.17 and above.\n",
            "  and should_run_async(code)\n",
            "<>:4: DeprecationWarning: invalid escape sequence \\[\n",
            "<>:6: DeprecationWarning: invalid escape sequence \\w\n",
            "<>:4: DeprecationWarning: invalid escape sequence \\[\n",
            "<>:6: DeprecationWarning: invalid escape sequence \\w\n",
            "<ipython-input-11-c13aacf11269>:4: DeprecationWarning: invalid escape sequence \\[\n",
            "  text = re.sub('\\[.*?\\]', '', text) #removing text enclosed in square brackets\n",
            "<ipython-input-11-c13aacf11269>:6: DeprecationWarning: invalid escape sequence \\w\n",
            "  text = re.sub('\\w*\\d\\w*', '', text) #removing digits\n"
          ]
        }
      ],
      "source": [
        "def preprocess(text, technique):\n",
        "    text = str(text).lower() #lower case\n",
        "    text = remove_html(text) # remove html if any\n",
        "    text = re.sub('\\[.*?\\]', '', text) #removing text enclosed in square brackets \n",
        "    text = re.sub('[\\n\\t\\r]', '', text)# removing new lines, tabs, and carriages\n",
        "    text = re.sub('\\w*\\d\\w*', '', text) #removing digits\n",
        "    text = remove_accented_chars(text) #removing accented characters\n",
        "    text = contractions.fix(text) #fixing contractions\n",
        "    tokens = nltk.word_tokenize(text) #tokenization\n",
        "\n",
        "    # apply text processing technique\n",
        "    if technique == 'stem_punc':\n",
        "        processed = [stemmer.stem(token) for token in tokens if token not in punc]\n",
        "    elif technique == 'stem_stop':\n",
        "        processed = [stemmer.stem(token) for token in tokens if token not in stop_words]\n",
        "    elif technique == 'lemma_punc':\n",
        "        processed = [lemmatizer.lemmatize(token) for token in tokens if token not in punc]\n",
        "    elif technique == 'lemma_stop':\n",
        "        processed = [lemmatizer.lemmatize(token) for token in tokens if token not in stop_words]\n",
        "    elif technique == 'stem_punc_stop':\n",
        "        processed = [stemmer.stem(token) for token in tokens if token not in punc and token not in stop_words]\n",
        "    elif technique == 'lemma_punc_stop': \n",
        "        processed = [lemmatizer.lemmatize(token) for token in tokens if token not in punc and token not in stop_words]\n",
        "    \n",
        "    return  ' '.join(processed)"
      ]
    },
    {
      "cell_type": "markdown",
      "id": "031a27f6",
      "metadata": {
        "id": "031a27f6"
      },
      "source": [
        "This method preprocess can be used to preprocess the reviews column.\n",
        "The user can choose from the following types of preprocessing combinations:\n",
        "\n",
        "- 1) Stemming + Punctuation Removal: 'stem_punc'\n",
        "- 2) Stemming + Stop Words Removal: 'stem_stop'\n",
        "- 3) Lemmatization + Punctuation Removal: 'lemma_punc'\n",
        "- 4) Lemmatization + Stop Words Removal: 'lemma_stop'\n",
        "- 5) Stemming + Punctuation Removal + Stop Words Removal : 'stem_punc_stop'\n",
        "- 6) Lemmatization + Punctuation Removal + Stop Words Removal : 'lemma_punc_stop'\n",
        "\n",
        "using those options, we can later compare which techniques of preprocessing are benefical to our data set and which are. We can later explain the trade-off of using each and justify their effectiveness for the current data set.  "
      ]
    },
    {
      "cell_type": "markdown",
      "id": "ee56afeb",
      "metadata": {
        "id": "ee56afeb"
      },
      "source": [
        "examples of using all 6 options:"
      ]
    },
    {
      "cell_type": "code",
      "execution_count": 12,
      "id": "47cce857",
      "metadata": {
        "id": "47cce857",
        "colab": {
          "base_uri": "https://localhost:8080/"
        },
        "outputId": "d0bf8265-7836-4a9d-daa2-5c435c649199"
      },
      "outputs": [
        {
          "output_type": "stream",
          "name": "stderr",
          "text": [
            "/usr/local/lib/python3.9/dist-packages/ipykernel/ipkernel.py:283: DeprecationWarning: `should_run_async` will not call `transform_cell` automatically in the future. Please pass the result to `transformed_cell` argument and any exception that happen during thetransform in `preprocessing_exc_tuple` in IPython 7.17 and above.\n",
            "  and should_run_async(code)\n"
          ]
        }
      ],
      "source": [
        "first_review = train_set['Review'][0]"
      ]
    },
    {
      "cell_type": "code",
      "source": [
        "import nltk\n",
        "nltk.download('punkt')\n",
        "nltk.download('wordnet')"
      ],
      "metadata": {
        "colab": {
          "base_uri": "https://localhost:8080/"
        },
        "id": "gLQ8B4M1LBIS",
        "outputId": "14b3ff98-3e12-4680-c70d-f516b35a1818"
      },
      "id": "gLQ8B4M1LBIS",
      "execution_count": 13,
      "outputs": [
        {
          "output_type": "stream",
          "name": "stderr",
          "text": [
            "/usr/local/lib/python3.9/dist-packages/ipykernel/ipkernel.py:283: DeprecationWarning: `should_run_async` will not call `transform_cell` automatically in the future. Please pass the result to `transformed_cell` argument and any exception that happen during thetransform in `preprocessing_exc_tuple` in IPython 7.17 and above.\n",
            "  and should_run_async(code)\n",
            "[nltk_data] Downloading package punkt to /root/nltk_data...\n",
            "[nltk_data]   Package punkt is already up-to-date!\n",
            "[nltk_data] Downloading package wordnet to /root/nltk_data...\n",
            "[nltk_data]   Package wordnet is already up-to-date!\n"
          ]
        },
        {
          "output_type": "execute_result",
          "data": {
            "text/plain": [
              "True"
            ]
          },
          "metadata": {},
          "execution_count": 13
        }
      ]
    },
    {
      "cell_type": "code",
      "execution_count": 67,
      "id": "0bcc4270",
      "metadata": {
        "colab": {
          "base_uri": "https://localhost:8080/",
          "height": 109
        },
        "id": "0bcc4270",
        "outputId": "5796b870-6085-49d0-b83c-d955dcd21654"
      },
      "outputs": [
        {
          "output_type": "stream",
          "name": "stderr",
          "text": [
            "/usr/local/lib/python3.9/dist-packages/ipykernel/ipkernel.py:283: DeprecationWarning: `should_run_async` will not call `transform_cell` automatically in the future. Please pass the result to `transformed_cell` argument and any exception that happen during thetransform in `preprocessing_exc_tuple` in IPython 7.17 and above.\n",
            "  and should_run_async(code)\n"
          ]
        },
        {
          "output_type": "execute_result",
          "data": {
            "text/plain": [
              "'thi a realli cool but time-test design the carbon steel blade get realli sharp but doe requir mainten from time to time i oil the lock screw-top and blade after that it open easili i have been use mine for a coupl of month now and am not disappoint it is a solid knife and at an afford price nice knife'"
            ],
            "application/vnd.google.colaboratory.intrinsic+json": {
              "type": "string"
            }
          },
          "metadata": {},
          "execution_count": 67
        }
      ],
      "source": [
        "stem_punc = preprocess(first_review, 'stem_punc')\n",
        "stem_punc"
      ]
    },
    {
      "cell_type": "code",
      "execution_count": 68,
      "id": "15ff90de",
      "metadata": {
        "colab": {
          "base_uri": "https://localhost:8080/",
          "height": 109
        },
        "id": "15ff90de",
        "outputId": "f4dc2f12-e387-4f9a-ca36-259e6736bacd"
      },
      "outputs": [
        {
          "output_type": "stream",
          "name": "stderr",
          "text": [
            "/usr/local/lib/python3.9/dist-packages/ipykernel/ipkernel.py:283: DeprecationWarning: `should_run_async` will not call `transform_cell` automatically in the future. Please pass the result to `transformed_cell` argument and any exception that happen during thetransform in `preprocessing_exc_tuple` in IPython 7.17 and above.\n",
            "  and should_run_async(code)\n"
          ]
        },
        {
          "output_type": "execute_result",
          "data": {
            "text/plain": [
              "'realli cool ( but time-test ) design . carbon steel blade get realli sharp but requir mainten time time . oil lock screw-top blade ; open easili . use mine coupl month not disappoint . solid knife afford price . nice knife !'"
            ],
            "application/vnd.google.colaboratory.intrinsic+json": {
              "type": "string"
            }
          },
          "metadata": {},
          "execution_count": 68
        }
      ],
      "source": [
        "stem_stop = preprocess(first_review, 'stem_stop')\n",
        "stem_stop"
      ]
    },
    {
      "cell_type": "code",
      "execution_count": 69,
      "id": "64d416b5",
      "metadata": {
        "colab": {
          "base_uri": "https://localhost:8080/",
          "height": 127
        },
        "id": "64d416b5",
        "outputId": "dbbbba69-bad1-405f-bbd3-c96a0b9e6ca3"
      },
      "outputs": [
        {
          "output_type": "stream",
          "name": "stderr",
          "text": [
            "/usr/local/lib/python3.9/dist-packages/ipykernel/ipkernel.py:283: DeprecationWarning: `should_run_async` will not call `transform_cell` automatically in the future. Please pass the result to `transformed_cell` argument and any exception that happen during thetransform in `preprocessing_exc_tuple` in IPython 7.17 and above.\n",
            "  and should_run_async(code)\n"
          ]
        },
        {
          "output_type": "execute_result",
          "data": {
            "text/plain": [
              "'this a really cool but time-tested design the carbon steel blade get really sharp but doe require maintenance from time to time i oiled the locking screw-top and blade after that it open easily i have been using mine for a couple of month now and am not disappointed it is a solid knife and at an affordable price nice knife'"
            ],
            "application/vnd.google.colaboratory.intrinsic+json": {
              "type": "string"
            }
          },
          "metadata": {},
          "execution_count": 69
        }
      ],
      "source": [
        "lemma_punc = preprocess(first_review, 'lemma_punc')\n",
        "lemma_punc"
      ]
    },
    {
      "cell_type": "code",
      "execution_count": 70,
      "id": "0f74557d",
      "metadata": {
        "colab": {
          "base_uri": "https://localhost:8080/",
          "height": 109
        },
        "id": "0f74557d",
        "outputId": "546002bc-4a06-4239-843b-71bd59108bf7"
      },
      "outputs": [
        {
          "output_type": "stream",
          "name": "stderr",
          "text": [
            "/usr/local/lib/python3.9/dist-packages/ipykernel/ipkernel.py:283: DeprecationWarning: `should_run_async` will not call `transform_cell` automatically in the future. Please pass the result to `transformed_cell` argument and any exception that happen during thetransform in `preprocessing_exc_tuple` in IPython 7.17 and above.\n",
            "  and should_run_async(code)\n"
          ]
        },
        {
          "output_type": "execute_result",
          "data": {
            "text/plain": [
              "'really cool ( but time-tested ) design . carbon steel blade get really sharp but require maintenance time time . oiled locking screw-top blade ; open easily . using mine couple month not disappointed . solid knife affordable price . nice knife !'"
            ],
            "application/vnd.google.colaboratory.intrinsic+json": {
              "type": "string"
            }
          },
          "metadata": {},
          "execution_count": 70
        }
      ],
      "source": [
        "lemma_stop = preprocess(first_review, 'lemma_stop')\n",
        "lemma_stop"
      ]
    },
    {
      "cell_type": "code",
      "execution_count": 71,
      "id": "c96b65b8",
      "metadata": {
        "colab": {
          "base_uri": "https://localhost:8080/",
          "height": 109
        },
        "id": "c96b65b8",
        "outputId": "47bcaca6-2788-4e40-f47f-09669708f7d2"
      },
      "outputs": [
        {
          "output_type": "stream",
          "name": "stderr",
          "text": [
            "/usr/local/lib/python3.9/dist-packages/ipykernel/ipkernel.py:283: DeprecationWarning: `should_run_async` will not call `transform_cell` automatically in the future. Please pass the result to `transformed_cell` argument and any exception that happen during thetransform in `preprocessing_exc_tuple` in IPython 7.17 and above.\n",
            "  and should_run_async(code)\n"
          ]
        },
        {
          "output_type": "execute_result",
          "data": {
            "text/plain": [
              "'realli cool but time-test design carbon steel blade get realli sharp but requir mainten time time oil lock screw-top blade open easili use mine coupl month not disappoint solid knife afford price nice knife'"
            ],
            "application/vnd.google.colaboratory.intrinsic+json": {
              "type": "string"
            }
          },
          "metadata": {},
          "execution_count": 71
        }
      ],
      "source": [
        "stem_punc_stop = preprocess(first_review, 'stem_punc_stop')\n",
        "stem_punc_stop"
      ]
    },
    {
      "cell_type": "code",
      "execution_count": 72,
      "id": "b2c6fb9f",
      "metadata": {
        "colab": {
          "base_uri": "https://localhost:8080/",
          "height": 109
        },
        "id": "b2c6fb9f",
        "outputId": "7c096d72-fd69-4edd-89cd-ea9863112401"
      },
      "outputs": [
        {
          "output_type": "stream",
          "name": "stderr",
          "text": [
            "/usr/local/lib/python3.9/dist-packages/ipykernel/ipkernel.py:283: DeprecationWarning: `should_run_async` will not call `transform_cell` automatically in the future. Please pass the result to `transformed_cell` argument and any exception that happen during thetransform in `preprocessing_exc_tuple` in IPython 7.17 and above.\n",
            "  and should_run_async(code)\n"
          ]
        },
        {
          "output_type": "execute_result",
          "data": {
            "text/plain": [
              "'really cool but time-tested design carbon steel blade get really sharp but require maintenance time time oiled locking screw-top blade open easily using mine couple month not disappointed solid knife affordable price nice knife'"
            ],
            "application/vnd.google.colaboratory.intrinsic+json": {
              "type": "string"
            }
          },
          "metadata": {},
          "execution_count": 72
        }
      ],
      "source": [
        "lemma_punc_stop = preprocess(first_review, 'lemma_punc_stop')\n",
        "lemma_punc_stop"
      ]
    },
    {
      "cell_type": "code",
      "execution_count": 14,
      "id": "6b395074",
      "metadata": {
        "id": "6b395074",
        "colab": {
          "base_uri": "https://localhost:8080/"
        },
        "outputId": "810f2b69-4619-415c-945a-4fb748245a47"
      },
      "outputs": [
        {
          "output_type": "stream",
          "name": "stderr",
          "text": [
            "/usr/local/lib/python3.9/dist-packages/ipykernel/ipkernel.py:283: DeprecationWarning: `should_run_async` will not call `transform_cell` automatically in the future. Please pass the result to `transformed_cell` argument and any exception that happen during thetransform in `preprocessing_exc_tuple` in IPython 7.17 and above.\n",
            "  and should_run_async(code)\n"
          ]
        }
      ],
      "source": [
        "# Apply pre-processing steps using \"lemma_punc_stop\" \n",
        "train_set['cleanedReviews'] = train_set['Review'].apply(lambda x: preprocess(x, 'lemma_punc_stop'))"
      ]
    },
    {
      "cell_type": "code",
      "execution_count": 74,
      "id": "d9005ec7",
      "metadata": {
        "colab": {
          "base_uri": "https://localhost:8080/",
          "height": 262
        },
        "id": "d9005ec7",
        "outputId": "6319fb54-a0e0-42bf-d5d1-21495df67d06"
      },
      "outputs": [
        {
          "metadata": {
            "tags": null
          },
          "name": "stderr",
          "output_type": "stream",
          "text": [
            "/usr/local/lib/python3.9/dist-packages/ipykernel/ipkernel.py:283: DeprecationWarning: `should_run_async` will not call `transform_cell` automatically in the future. Please pass the result to `transformed_cell` argument and any exception that happen during thetransform in `preprocessing_exc_tuple` in IPython 7.17 and above.\n",
            "  and should_run_async(code)\n"
          ]
        },
        {
          "data": {
            "text/html": [
              "\n",
              "  <div id=\"df-16e9bac4-00de-4ef4-82b9-e79ab7e1a8a0\">\n",
              "    <div class=\"colab-df-container\">\n",
              "      <div>\n",
              "<style scoped>\n",
              "    .dataframe tbody tr th:only-of-type {\n",
              "        vertical-align: middle;\n",
              "    }\n",
              "\n",
              "    .dataframe tbody tr th {\n",
              "        vertical-align: top;\n",
              "    }\n",
              "\n",
              "    .dataframe thead th {\n",
              "        text-align: right;\n",
              "    }\n",
              "</style>\n",
              "<table border=\"1\" class=\"dataframe\">\n",
              "  <thead>\n",
              "    <tr style=\"text-align: right;\">\n",
              "      <th></th>\n",
              "      <th>overall</th>\n",
              "      <th>Review</th>\n",
              "      <th>cleanedReviews</th>\n",
              "    </tr>\n",
              "  </thead>\n",
              "  <tbody>\n",
              "    <tr>\n",
              "      <th>0</th>\n",
              "      <td>5</td>\n",
              "      <td>This a really cool (but time-tested) design. T...</td>\n",
              "      <td>really cool but time-tested design carbon stee...</td>\n",
              "    </tr>\n",
              "    <tr>\n",
              "      <th>1</th>\n",
              "      <td>5</td>\n",
              "      <td>I liked the first pair so well I bought severa...</td>\n",
              "      <td>liked first pair well bought several found usu...</td>\n",
              "    </tr>\n",
              "    <tr>\n",
              "      <th>2</th>\n",
              "      <td>4</td>\n",
              "      <td>I took them to the range to put them to the te...</td>\n",
              "      <td>took range put test adjust volume hear people ...</td>\n",
              "    </tr>\n",
              "    <tr>\n",
              "      <th>3</th>\n",
              "      <td>5</td>\n",
              "      <td>What can you say about a yoga block?  These ar...</td>\n",
              "      <td>say yoga block solid sturdy not name-brand fea...</td>\n",
              "    </tr>\n",
              "    <tr>\n",
              "      <th>4</th>\n",
              "      <td>5</td>\n",
              "      <td>After reading many reviews I decided on this l...</td>\n",
              "      <td>reading many review decided light satisfied da...</td>\n",
              "    </tr>\n",
              "  </tbody>\n",
              "</table>\n",
              "</div>\n",
              "      <button class=\"colab-df-convert\" onclick=\"convertToInteractive('df-16e9bac4-00de-4ef4-82b9-e79ab7e1a8a0')\"\n",
              "              title=\"Convert this dataframe to an interactive table.\"\n",
              "              style=\"display:none;\">\n",
              "        \n",
              "  <svg xmlns=\"http://www.w3.org/2000/svg\" height=\"24px\"viewBox=\"0 0 24 24\"\n",
              "       width=\"24px\">\n",
              "    <path d=\"M0 0h24v24H0V0z\" fill=\"none\"/>\n",
              "    <path d=\"M18.56 5.44l.94 2.06.94-2.06 2.06-.94-2.06-.94-.94-2.06-.94 2.06-2.06.94zm-11 1L8.5 8.5l.94-2.06 2.06-.94-2.06-.94L8.5 2.5l-.94 2.06-2.06.94zm10 10l.94 2.06.94-2.06 2.06-.94-2.06-.94-.94-2.06-.94 2.06-2.06.94z\"/><path d=\"M17.41 7.96l-1.37-1.37c-.4-.4-.92-.59-1.43-.59-.52 0-1.04.2-1.43.59L10.3 9.45l-7.72 7.72c-.78.78-.78 2.05 0 2.83L4 21.41c.39.39.9.59 1.41.59.51 0 1.02-.2 1.41-.59l7.78-7.78 2.81-2.81c.8-.78.8-2.07 0-2.86zM5.41 20L4 18.59l7.72-7.72 1.47 1.35L5.41 20z\"/>\n",
              "  </svg>\n",
              "      </button>\n",
              "      \n",
              "  <style>\n",
              "    .colab-df-container {\n",
              "      display:flex;\n",
              "      flex-wrap:wrap;\n",
              "      gap: 12px;\n",
              "    }\n",
              "\n",
              "    .colab-df-convert {\n",
              "      background-color: #E8F0FE;\n",
              "      border: none;\n",
              "      border-radius: 50%;\n",
              "      cursor: pointer;\n",
              "      display: none;\n",
              "      fill: #1967D2;\n",
              "      height: 32px;\n",
              "      padding: 0 0 0 0;\n",
              "      width: 32px;\n",
              "    }\n",
              "\n",
              "    .colab-df-convert:hover {\n",
              "      background-color: #E2EBFA;\n",
              "      box-shadow: 0px 1px 2px rgba(60, 64, 67, 0.3), 0px 1px 3px 1px rgba(60, 64, 67, 0.15);\n",
              "      fill: #174EA6;\n",
              "    }\n",
              "\n",
              "    [theme=dark] .colab-df-convert {\n",
              "      background-color: #3B4455;\n",
              "      fill: #D2E3FC;\n",
              "    }\n",
              "\n",
              "    [theme=dark] .colab-df-convert:hover {\n",
              "      background-color: #434B5C;\n",
              "      box-shadow: 0px 1px 3px 1px rgba(0, 0, 0, 0.15);\n",
              "      filter: drop-shadow(0px 1px 2px rgba(0, 0, 0, 0.3));\n",
              "      fill: #FFFFFF;\n",
              "    }\n",
              "  </style>\n",
              "\n",
              "      <script>\n",
              "        const buttonEl =\n",
              "          document.querySelector('#df-16e9bac4-00de-4ef4-82b9-e79ab7e1a8a0 button.colab-df-convert');\n",
              "        buttonEl.style.display =\n",
              "          google.colab.kernel.accessAllowed ? 'block' : 'none';\n",
              "\n",
              "        async function convertToInteractive(key) {\n",
              "          const element = document.querySelector('#df-16e9bac4-00de-4ef4-82b9-e79ab7e1a8a0');\n",
              "          const dataTable =\n",
              "            await google.colab.kernel.invokeFunction('convertToInteractive',\n",
              "                                                     [key], {});\n",
              "          if (!dataTable) return;\n",
              "\n",
              "          const docLinkHtml = 'Like what you see? Visit the ' +\n",
              "            '<a target=\"_blank\" href=https://colab.research.google.com/notebooks/data_table.ipynb>data table notebook</a>'\n",
              "            + ' to learn more about interactive tables.';\n",
              "          element.innerHTML = '';\n",
              "          dataTable['output_type'] = 'display_data';\n",
              "          await google.colab.output.renderOutput(dataTable, element);\n",
              "          const docLink = document.createElement('div');\n",
              "          docLink.innerHTML = docLinkHtml;\n",
              "          element.appendChild(docLink);\n",
              "        }\n",
              "      </script>\n",
              "    </div>\n",
              "  </div>\n",
              "  "
            ],
            "text/plain": [
              "   overall                                             Review  \\\n",
              "0        5  This a really cool (but time-tested) design. T...   \n",
              "1        5  I liked the first pair so well I bought severa...   \n",
              "2        4  I took them to the range to put them to the te...   \n",
              "3        5  What can you say about a yoga block?  These ar...   \n",
              "4        5  After reading many reviews I decided on this l...   \n",
              "\n",
              "                                      cleanedReviews  \n",
              "0  really cool but time-tested design carbon stee...  \n",
              "1  liked first pair well bought several found usu...  \n",
              "2  took range put test adjust volume hear people ...  \n",
              "3  say yoga block solid sturdy not name-brand fea...  \n",
              "4  reading many review decided light satisfied da...  "
            ]
          },
          "execution_count": 74,
          "metadata": {},
          "output_type": "execute_result"
        }
      ],
      "source": [
        "train_set.head()"
      ]
    },
    {
      "cell_type": "markdown",
      "id": "776ec3a7",
      "metadata": {
        "id": "776ec3a7"
      },
      "source": [
        "# Vector space Model and feature representation"
      ]
    },
    {
      "cell_type": "code",
      "execution_count": 75,
      "id": "406a9e3a",
      "metadata": {
        "id": "406a9e3a",
        "colab": {
          "base_uri": "https://localhost:8080/"
        },
        "outputId": "9aa5eb13-4600-4ce9-8ac2-636c0332b361"
      },
      "outputs": [
        {
          "output_type": "stream",
          "name": "stderr",
          "text": [
            "/usr/local/lib/python3.9/dist-packages/ipykernel/ipkernel.py:283: DeprecationWarning: `should_run_async` will not call `transform_cell` automatically in the future. Please pass the result to `transformed_cell` argument and any exception that happen during thetransform in `preprocessing_exc_tuple` in IPython 7.17 and above.\n",
            "  and should_run_async(code)\n"
          ]
        }
      ],
      "source": [
        "# Experiment with different vectorizers and n-gram features\n",
        "vectorizers = [CountVectorizer, TfidfVectorizer]\n",
        "ngram_ranges = [(1,1), (1,2), (1,3)]"
      ]
    },
    {
      "cell_type": "markdown",
      "id": "2013ddc6",
      "metadata": {
        "id": "2013ddc6"
      },
      "source": [
        "# Model training, selection and hyperparameter tuning and evaluation"
      ]
    },
    {
      "cell_type": "code",
      "execution_count": 15,
      "id": "8ee717ea",
      "metadata": {
        "id": "8ee717ea",
        "colab": {
          "base_uri": "https://localhost:8080/"
        },
        "outputId": "ee5cd89a-1ef3-4f07-bddd-87a33eb5997c"
      },
      "outputs": [
        {
          "output_type": "stream",
          "name": "stderr",
          "text": [
            "/usr/local/lib/python3.9/dist-packages/ipykernel/ipkernel.py:283: DeprecationWarning: `should_run_async` will not call `transform_cell` automatically in the future. Please pass the result to `transformed_cell` argument and any exception that happen during thetransform in `preprocessing_exc_tuple` in IPython 7.17 and above.\n",
            "  and should_run_async(code)\n"
          ]
        }
      ],
      "source": [
        "# setting the X and y for the training dataset\n",
        "X = train_set['cleanedReviews']\n",
        "y = train_set['overall']"
      ]
    },
    {
      "cell_type": "code",
      "execution_count": 77,
      "id": "fc30a1c5",
      "metadata": {
        "id": "fc30a1c5",
        "colab": {
          "base_uri": "https://localhost:8080/"
        },
        "outputId": "bad69553-7419-4b6a-d680-3eb850d510a2"
      },
      "outputs": [
        {
          "output_type": "stream",
          "name": "stderr",
          "text": [
            "/usr/local/lib/python3.9/dist-packages/ipykernel/ipkernel.py:283: DeprecationWarning: `should_run_async` will not call `transform_cell` automatically in the future. Please pass the result to `transformed_cell` argument and any exception that happen during thetransform in `preprocessing_exc_tuple` in IPython 7.17 and above.\n",
            "  and should_run_async(code)\n"
          ]
        }
      ],
      "source": [
        "def eval_model(model,X,y):\n",
        "    # predict\n",
        "    y_p= model.predict(X)\n",
        "    # Evaluation metrics\n",
        "    print(classification_report(y, y_p))"
      ]
    },
    {
      "cell_type": "code",
      "source": [
        "def hyperparameters(model, param_grid, X, y, cv=5, scoring='accuracy'):\n",
        "    grid_search = GridSearchCV(estimator=model, param_grid=param_grid, cv=cv, scoring=scoring)\n",
        "    grid_search.fit(X, y)\n",
        "    print(\"Best hyperparameters: \", grid_search.best_params_)\n",
        "    print(\"Best \" + scoring + \": {:.2f}\".format(grid_search.best_score_))\n",
        "    print(\"\\n\")\n",
        "    \n",
        "    return grid_search"
      ],
      "metadata": {
        "colab": {
          "base_uri": "https://localhost:8080/"
        },
        "id": "Ib15ZUe8uN-3",
        "outputId": "fd35e3d6-b5d6-4073-be5c-c32746abc449"
      },
      "id": "Ib15ZUe8uN-3",
      "execution_count": 78,
      "outputs": [
        {
          "output_type": "stream",
          "name": "stderr",
          "text": [
            "/usr/local/lib/python3.9/dist-packages/ipykernel/ipkernel.py:283: DeprecationWarning: `should_run_async` will not call `transform_cell` automatically in the future. Please pass the result to `transformed_cell` argument and any exception that happen during thetransform in `preprocessing_exc_tuple` in IPython 7.17 and above.\n",
            "  and should_run_async(code)\n"
          ]
        }
      ]
    },
    {
      "cell_type": "code",
      "source": [
        "# Split the dataset into training and test sets\n",
        "X_train, X_test, y_train, y_test = train_test_split(X, y, test_size=0.3, random_state=42)\n",
        "\n",
        "# Split the test set into validation and test sets\n",
        "X_val, X_test, y_val, y_test = train_test_split(X_test, y_test, test_size=0.5, random_state=42)"
      ],
      "metadata": {
        "colab": {
          "base_uri": "https://localhost:8080/"
        },
        "id": "XmWvfq3NuQbm",
        "outputId": "4fbd25f7-efcb-4908-f1cd-754888d9cceb"
      },
      "id": "XmWvfq3NuQbm",
      "execution_count": 79,
      "outputs": [
        {
          "output_type": "stream",
          "name": "stderr",
          "text": [
            "/usr/local/lib/python3.9/dist-packages/ipykernel/ipkernel.py:283: DeprecationWarning: `should_run_async` will not call `transform_cell` automatically in the future. Please pass the result to `transformed_cell` argument and any exception that happen during thetransform in `preprocessing_exc_tuple` in IPython 7.17 and above.\n",
            "  and should_run_async(code)\n"
          ]
        }
      ]
    },
    {
      "cell_type": "markdown",
      "id": "30f6a25b",
      "metadata": {
        "id": "30f6a25b"
      },
      "source": [
        "## 1) Multinomial NB Model "
      ]
    },
    {
      "cell_type": "code",
      "execution_count": 80,
      "id": "f67d6d1e",
      "metadata": {
        "colab": {
          "base_uri": "https://localhost:8080/",
          "height": 1000
        },
        "id": "f67d6d1e",
        "outputId": "5fe835a4-5f0d-4e3f-d293-2db3ce75595e"
      },
      "outputs": [
        {
          "output_type": "stream",
          "name": "stderr",
          "text": [
            "/usr/local/lib/python3.9/dist-packages/ipykernel/ipkernel.py:283: DeprecationWarning: `should_run_async` will not call `transform_cell` automatically in the future. Please pass the result to `transformed_cell` argument and any exception that happen during thetransform in `preprocessing_exc_tuple` in IPython 7.17 and above.\n",
            "  and should_run_async(code)\n"
          ]
        },
        {
          "output_type": "stream",
          "name": "stdout",
          "text": [
            "\n",
            "\n",
            "Vectorizer:  CountVectorizer\n",
            "N-grams:  (1, 1)\n",
            "\n",
            "\n",
            "Metrics of Validation set:\n",
            "              precision    recall  f1-score   support\n",
            "\n",
            "           1       0.56      0.29      0.38       973\n",
            "           2       0.24      0.02      0.04      1133\n",
            "           3       0.39      0.19      0.26      2635\n",
            "           4       0.42      0.39      0.40      7235\n",
            "           5       0.76      0.89      0.82     21360\n",
            "\n",
            "    accuracy                           0.68     33336\n",
            "   macro avg       0.47      0.35      0.38     33336\n",
            "weighted avg       0.64      0.68      0.65     33336\n",
            "\n",
            "Metrics of Testing set:\n",
            "              precision    recall  f1-score   support\n",
            "\n",
            "           1       0.62      0.35      0.44       951\n",
            "           2       0.28      0.02      0.04      1133\n",
            "           3       0.40      0.18      0.25      2691\n",
            "           4       0.42      0.38      0.40      7380\n",
            "           5       0.76      0.89      0.82     21182\n",
            "\n",
            "    accuracy                           0.67     33337\n",
            "   macro avg       0.49      0.36      0.39     33337\n",
            "weighted avg       0.63      0.67      0.64     33337\n",
            "\n",
            "=================================\n",
            "\n",
            "\n",
            "Vectorizer:  CountVectorizer\n",
            "N-grams:  (1, 2)\n",
            "\n",
            "\n",
            "Metrics of Validation set:\n"
          ]
        },
        {
          "output_type": "stream",
          "name": "stderr",
          "text": [
            "/usr/local/lib/python3.9/dist-packages/sklearn/metrics/_classification.py:1344: UndefinedMetricWarning: Precision and F-score are ill-defined and being set to 0.0 in labels with no predicted samples. Use `zero_division` parameter to control this behavior.\n",
            "  _warn_prf(average, modifier, msg_start, len(result))\n",
            "/usr/local/lib/python3.9/dist-packages/sklearn/metrics/_classification.py:1344: UndefinedMetricWarning: Precision and F-score are ill-defined and being set to 0.0 in labels with no predicted samples. Use `zero_division` parameter to control this behavior.\n",
            "  _warn_prf(average, modifier, msg_start, len(result))\n",
            "/usr/local/lib/python3.9/dist-packages/sklearn/metrics/_classification.py:1344: UndefinedMetricWarning: Precision and F-score are ill-defined and being set to 0.0 in labels with no predicted samples. Use `zero_division` parameter to control this behavior.\n",
            "  _warn_prf(average, modifier, msg_start, len(result))\n"
          ]
        },
        {
          "output_type": "stream",
          "name": "stdout",
          "text": [
            "              precision    recall  f1-score   support\n",
            "\n",
            "           1       1.00      0.01      0.01       973\n",
            "           2       0.00      0.00      0.00      1133\n",
            "           3       0.72      0.00      0.01      2635\n",
            "           4       0.43      0.07      0.12      7235\n",
            "           5       0.66      0.99      0.79     21360\n",
            "\n",
            "    accuracy                           0.65     33336\n",
            "   macro avg       0.56      0.22      0.19     33336\n",
            "weighted avg       0.60      0.65      0.54     33336\n",
            "\n",
            "Metrics of Testing set:\n",
            "              precision    recall  f1-score   support\n",
            "\n",
            "           1       0.67      0.00      0.01       951\n",
            "           2       1.00      0.00      0.00      1133\n",
            "           3       0.61      0.01      0.01      2691\n",
            "           4       0.45      0.07      0.12      7380\n",
            "           5       0.66      1.00      0.79     21182\n",
            "\n",
            "    accuracy                           0.65     33337\n",
            "   macro avg       0.68      0.22      0.19     33337\n",
            "weighted avg       0.62      0.65      0.53     33337\n",
            "\n",
            "=================================\n",
            "\n",
            "\n",
            "Vectorizer:  CountVectorizer\n",
            "N-grams:  (1, 3)\n",
            "\n",
            "\n"
          ]
        },
        {
          "output_type": "error",
          "ename": "KeyboardInterrupt",
          "evalue": "ignored",
          "traceback": [
            "\u001b[0;31m---------------------------------------------------------------------------\u001b[0m",
            "\u001b[0;31mKeyboardInterrupt\u001b[0m                         Traceback (most recent call last)",
            "\u001b[0;32m<ipython-input-80-0c1e49065274>\u001b[0m in \u001b[0;36m<cell line: 1>\u001b[0;34m()\u001b[0m\n\u001b[1;32m      9\u001b[0m \u001b[0;34m\u001b[0m\u001b[0m\n\u001b[1;32m     10\u001b[0m         \u001b[0;31m# Fit vectorizer and transform X data\u001b[0m\u001b[0;34m\u001b[0m\u001b[0;34m\u001b[0m\u001b[0m\n\u001b[0;32m---> 11\u001b[0;31m         \u001b[0mX_train_v\u001b[0m \u001b[0;34m=\u001b[0m \u001b[0mvec\u001b[0m\u001b[0;34m.\u001b[0m\u001b[0mfit_transform\u001b[0m\u001b[0;34m(\u001b[0m\u001b[0mX_train\u001b[0m\u001b[0;34m)\u001b[0m\u001b[0;34m\u001b[0m\u001b[0;34m\u001b[0m\u001b[0m\n\u001b[0m\u001b[1;32m     12\u001b[0m         \u001b[0mX_val_v\u001b[0m \u001b[0;34m=\u001b[0m \u001b[0mvec\u001b[0m\u001b[0;34m.\u001b[0m\u001b[0mtransform\u001b[0m\u001b[0;34m(\u001b[0m\u001b[0mX_val\u001b[0m\u001b[0;34m)\u001b[0m\u001b[0;34m\u001b[0m\u001b[0;34m\u001b[0m\u001b[0m\n\u001b[1;32m     13\u001b[0m         \u001b[0mX_test_v\u001b[0m \u001b[0;34m=\u001b[0m \u001b[0mvec\u001b[0m\u001b[0;34m.\u001b[0m\u001b[0mtransform\u001b[0m\u001b[0;34m(\u001b[0m\u001b[0mX_test\u001b[0m\u001b[0;34m)\u001b[0m\u001b[0;34m\u001b[0m\u001b[0;34m\u001b[0m\u001b[0m\n",
            "\u001b[0;32m/usr/local/lib/python3.9/dist-packages/sklearn/feature_extraction/text.py\u001b[0m in \u001b[0;36mfit_transform\u001b[0;34m(self, raw_documents, y)\u001b[0m\n\u001b[1;32m   1403\u001b[0m             )\n\u001b[1;32m   1404\u001b[0m             \u001b[0;32mif\u001b[0m \u001b[0mmax_features\u001b[0m \u001b[0;32mis\u001b[0m \u001b[0;32mNone\u001b[0m\u001b[0;34m:\u001b[0m\u001b[0;34m\u001b[0m\u001b[0;34m\u001b[0m\u001b[0m\n\u001b[0;32m-> 1405\u001b[0;31m                 \u001b[0mX\u001b[0m \u001b[0;34m=\u001b[0m \u001b[0mself\u001b[0m\u001b[0;34m.\u001b[0m\u001b[0m_sort_features\u001b[0m\u001b[0;34m(\u001b[0m\u001b[0mX\u001b[0m\u001b[0;34m,\u001b[0m \u001b[0mvocabulary\u001b[0m\u001b[0;34m)\u001b[0m\u001b[0;34m\u001b[0m\u001b[0;34m\u001b[0m\u001b[0m\n\u001b[0m\u001b[1;32m   1406\u001b[0m             \u001b[0mself\u001b[0m\u001b[0;34m.\u001b[0m\u001b[0mvocabulary_\u001b[0m \u001b[0;34m=\u001b[0m \u001b[0mvocabulary\u001b[0m\u001b[0;34m\u001b[0m\u001b[0;34m\u001b[0m\u001b[0m\n\u001b[1;32m   1407\u001b[0m \u001b[0;34m\u001b[0m\u001b[0m\n",
            "\u001b[0;32m/usr/local/lib/python3.9/dist-packages/sklearn/feature_extraction/text.py\u001b[0m in \u001b[0;36m_sort_features\u001b[0;34m(self, X, vocabulary)\u001b[0m\n\u001b[1;32m   1206\u001b[0m         \u001b[0mReturns\u001b[0m \u001b[0ma\u001b[0m \u001b[0mreordered\u001b[0m \u001b[0mmatrix\u001b[0m \u001b[0;32mand\u001b[0m \u001b[0mmodifies\u001b[0m \u001b[0mthe\u001b[0m \u001b[0mvocabulary\u001b[0m \u001b[0;32min\u001b[0m \u001b[0mplace\u001b[0m\u001b[0;34m\u001b[0m\u001b[0;34m\u001b[0m\u001b[0m\n\u001b[1;32m   1207\u001b[0m         \"\"\"\n\u001b[0;32m-> 1208\u001b[0;31m         \u001b[0msorted_features\u001b[0m \u001b[0;34m=\u001b[0m \u001b[0msorted\u001b[0m\u001b[0;34m(\u001b[0m\u001b[0mvocabulary\u001b[0m\u001b[0;34m.\u001b[0m\u001b[0mitems\u001b[0m\u001b[0;34m(\u001b[0m\u001b[0;34m)\u001b[0m\u001b[0;34m)\u001b[0m\u001b[0;34m\u001b[0m\u001b[0;34m\u001b[0m\u001b[0m\n\u001b[0m\u001b[1;32m   1209\u001b[0m         \u001b[0mmap_index\u001b[0m \u001b[0;34m=\u001b[0m \u001b[0mnp\u001b[0m\u001b[0;34m.\u001b[0m\u001b[0mempty\u001b[0m\u001b[0;34m(\u001b[0m\u001b[0mlen\u001b[0m\u001b[0;34m(\u001b[0m\u001b[0msorted_features\u001b[0m\u001b[0;34m)\u001b[0m\u001b[0;34m,\u001b[0m \u001b[0mdtype\u001b[0m\u001b[0;34m=\u001b[0m\u001b[0mX\u001b[0m\u001b[0;34m.\u001b[0m\u001b[0mindices\u001b[0m\u001b[0;34m.\u001b[0m\u001b[0mdtype\u001b[0m\u001b[0;34m)\u001b[0m\u001b[0;34m\u001b[0m\u001b[0;34m\u001b[0m\u001b[0m\n\u001b[1;32m   1210\u001b[0m         \u001b[0;32mfor\u001b[0m \u001b[0mnew_val\u001b[0m\u001b[0;34m,\u001b[0m \u001b[0;34m(\u001b[0m\u001b[0mterm\u001b[0m\u001b[0;34m,\u001b[0m \u001b[0mold_val\u001b[0m\u001b[0;34m)\u001b[0m \u001b[0;32min\u001b[0m \u001b[0menumerate\u001b[0m\u001b[0;34m(\u001b[0m\u001b[0msorted_features\u001b[0m\u001b[0;34m)\u001b[0m\u001b[0;34m:\u001b[0m\u001b[0;34m\u001b[0m\u001b[0;34m\u001b[0m\u001b[0m\n",
            "\u001b[0;31mKeyboardInterrupt\u001b[0m: "
          ]
        }
      ],
      "source": [
        "for vectorizer in vectorizers:\n",
        "    for ngram_range in ngram_ranges:\n",
        "        print(\"\\n\")\n",
        "        print(\"Vectorizer: \",vectorizer.__name__)\n",
        "        print(\"N-grams: \",ngram_range)\n",
        "        print(\"\\n\")\n",
        "        # Initialize vectorizer\n",
        "        vec = vectorizer(ngram_range=ngram_range)\n",
        "        \n",
        "        # Fit vectorizer and transform X data\n",
        "        X_train_v = vec.fit_transform(X_train)\n",
        "        X_val_v = vec.transform(X_val)\n",
        "        X_test_v = vec.transform(X_test)\n",
        "        \n",
        "        # Train machine learning model\n",
        "        clf = MultinomialNB()\n",
        "        clf.fit(X_train_v, y_train)\n",
        "        \n",
        "        # Evaluate the model on the validation set\n",
        "        print(\"Metrics of Validation set:\")\n",
        "        eval_model(clf,X_val_v,y_val)\n",
        "        \n",
        "        # Evaluate the model on the testing set\n",
        "        print(\"Metrics of Testing set:\")\n",
        "        eval_model(clf,X_test_v,y_test)\n",
        "        \n",
        "        print (\"=================================\")\n",
        "        "
      ]
    },
    {
      "cell_type": "markdown",
      "id": "0cb838dd",
      "metadata": {
        "id": "0cb838dd"
      },
      "source": [
        "## 2) Bernoulli NB Model"
      ]
    },
    {
      "cell_type": "code",
      "execution_count": null,
      "id": "dc84e3f9",
      "metadata": {
        "id": "dc84e3f9"
      },
      "outputs": [],
      "source": [
        "for vectorizer in vectorizers:\n",
        "    for ngram_range in ngram_ranges:\n",
        "        print(\"\\n\")\n",
        "        print(\"Vectorizer: \",vectorizer.__name__)\n",
        "        print(\"N-grams: \",ngram_range)\n",
        "        print(\"\\n\")\n",
        "        # Initialize vectorizer\n",
        "        vec = vectorizer(ngram_range=ngram_range)\n",
        "        \n",
        "        # Fit vectorizer and transform X data\n",
        "        X_train_v = vec.fit_transform(X_train)\n",
        "        X_val_v = vec.transform(X_val)\n",
        "        X_test_v = vec.transform(X_test)\n",
        "        \n",
        "        # Train machine learning model\n",
        "        BNB = BernoulliNB()\n",
        "        BNB.fit(X_train_v, y_train)\n",
        "        \n",
        "        # Evaluate the model on the validation set\n",
        "        print(\"Metrics of Validation set:\")\n",
        "        eval_model(BNB,X_val_v,y_val)\n",
        "        \n",
        "        # Evaluate the model on the testing set\n",
        "        print(\"Metrics of Testing set:\")\n",
        "        eval_model(BNB,X_test_v,y_test)\n",
        "        \n",
        "        print (\"=================================\")\n",
        "        "
      ]
    },
    {
      "cell_type": "markdown",
      "id": "c71a5865",
      "metadata": {
        "id": "c71a5865"
      },
      "source": [
        "## 3) Random Forest Classifier"
      ]
    },
    {
      "cell_type": "markdown",
      "source": [
        "Using the CountVectorizer with unigram to transform the data and apply random forest classifier with hyperparameter tuning using GridSearchCV. Then fitting the data using the best hyperparameters, and evaluating the model on the validation set and testing set."
      ],
      "metadata": {
        "id": "VyXfZkDzupE9"
      },
      "id": "VyXfZkDzupE9"
    },
    {
      "cell_type": "code",
      "source": [
        "count_1_vec = CountVectorizer(ngram_range=(1,1))\n",
        "X_train_c1v = count_1_vec.fit_transform(X_train)\n",
        "X_val_c1v = count_1_vec.transform(X_val)\n",
        "X_test_c1v = count_1_vec.transform(X_test)"
      ],
      "metadata": {
        "id": "a5y9Z_SkuudM"
      },
      "id": "a5y9Z_SkuudM",
      "execution_count": null,
      "outputs": []
    },
    {
      "cell_type": "code",
      "source": [
        "rf = RandomForestClassifier(random_state=42)\n",
        "\n",
        "param_grid = {\n",
        "    'n_estimators': [50, 100, 200],\n",
        "    'max_depth': [10, 20, 30]\n",
        "}"
      ],
      "metadata": {
        "id": "l1s_dfX9uvbI"
      },
      "id": "l1s_dfX9uvbI",
      "execution_count": null,
      "outputs": []
    },
    {
      "cell_type": "code",
      "source": [
        "grid_search = GridSearchCV(estimator=rf, param_grid=param_grid, cv=5, scoring='accuracy', n_jobs=multiprocessing.cpu_count())"
      ],
      "metadata": {
        "id": "8c7MrmO6uxch"
      },
      "id": "8c7MrmO6uxch",
      "execution_count": null,
      "outputs": []
    },
    {
      "cell_type": "code",
      "source": [
        "grid_search.fit(X_train_c1v, y_train)"
      ],
      "metadata": {
        "id": "yn02dJNcuzum"
      },
      "id": "yn02dJNcuzum",
      "execution_count": null,
      "outputs": []
    },
    {
      "cell_type": "code",
      "source": [
        "# Print best hyperparameters for random forest classifier\n",
        "print(\"Best hyperparameters: \", grid_search.best_params_)\n",
        "print(\"Best Accuracy\" + \": {:.2f}\".format(grid_search.best_score_))"
      ],
      "metadata": {
        "id": "pugtlK3fu1nc"
      },
      "id": "pugtlK3fu1nc",
      "execution_count": null,
      "outputs": []
    },
    {
      "cell_type": "code",
      "source": [
        "# Evaluate the model on the validation set\n",
        "print(\"Metrics of Validation set:\")\n",
        "eval_model(grid_search,X_val_c1v,y_val)"
      ],
      "metadata": {
        "id": "aNuIwfVou3re"
      },
      "id": "aNuIwfVou3re",
      "execution_count": null,
      "outputs": []
    },
    {
      "cell_type": "code",
      "source": [
        "# Evaluate the model on the testing set\n",
        "print(\"Metrics of Testing set:\")\n",
        "eval_model(grid_search,X_test_c1v,y_test)"
      ],
      "metadata": {
        "id": "UcfHgTyNu51_"
      },
      "id": "UcfHgTyNu51_",
      "execution_count": null,
      "outputs": []
    },
    {
      "cell_type": "markdown",
      "source": [
        "## 4) Decision Trees"
      ],
      "metadata": {
        "id": "U9j9FJ_evMi2"
      },
      "id": "U9j9FJ_evMi2"
    },
    {
      "cell_type": "code",
      "source": [
        "dt = DecisionTreeClassifier()\n",
        "param_grid = {\n",
        "    'criterion': ['gini', 'entropy'],\n",
        "    'max_depth': [2, 3, 4, 5],\n",
        "    'min_samples_split': [2, 3, 4, 5],\n",
        "    'min_samples_leaf': [1, 2, 3, 4],\n",
        "}"
      ],
      "metadata": {
        "id": "We6C9CKdu7-t"
      },
      "id": "We6C9CKdu7-t",
      "execution_count": null,
      "outputs": []
    },
    {
      "cell_type": "code",
      "source": [
        "grid_search = GridSearchCV(estimator=dt, param_grid=param_grid, cv=5, scoring='accuracy', n_jobs=multiprocessing.cpu_count())"
      ],
      "metadata": {
        "id": "p0vPv6ESvPX1"
      },
      "id": "p0vPv6ESvPX1",
      "execution_count": null,
      "outputs": []
    },
    {
      "cell_type": "code",
      "source": [
        "grid_search.fit(X_train_c1v, y_train)"
      ],
      "metadata": {
        "id": "i_e6SzbovPa8"
      },
      "id": "i_e6SzbovPa8",
      "execution_count": null,
      "outputs": []
    },
    {
      "cell_type": "code",
      "source": [
        "# Print best hyperparameters for Decision Trees\n",
        "print(\"Best hyperparameters: \", grid_search.best_params_)\n",
        "print(\"Best Accuracy\" + \": {:.2f}\".format(grid_search.best_score_))"
      ],
      "metadata": {
        "id": "zELFI47zvPdz"
      },
      "id": "zELFI47zvPdz",
      "execution_count": null,
      "outputs": []
    },
    {
      "cell_type": "code",
      "source": [
        "# Evaluate the model on the validation set\n",
        "print(\"Metrics of Validation set:\")\n",
        "eval_model(grid_search,X_val_c1v,y_val)"
      ],
      "metadata": {
        "id": "nThFKQbNvPg8"
      },
      "id": "nThFKQbNvPg8",
      "execution_count": null,
      "outputs": []
    },
    {
      "cell_type": "code",
      "source": [
        "# Evaluate the model on the testing set\n",
        "print(\"Metrics of Testing set:\")\n",
        "eval_model(grid_search,X_test_c1v,y_test)"
      ],
      "metadata": {
        "id": "ULJ5uC8YvWLx"
      },
      "id": "ULJ5uC8YvWLx",
      "execution_count": null,
      "outputs": []
    },
    {
      "cell_type": "markdown",
      "source": [
        "## Sampling"
      ],
      "metadata": {
        "id": "fYn7klvQvcEV"
      },
      "id": "fYn7klvQvcEV"
    },
    {
      "cell_type": "markdown",
      "source": [
        "### Undersampling using Multinomial NB"
      ],
      "metadata": {
        "id": "CrLI5xLqvhUw"
      },
      "id": "CrLI5xLqvhUw"
    },
    {
      "cell_type": "code",
      "source": [
        "y_train.value_counts()"
      ],
      "metadata": {
        "id": "C5LdZfC7vWSQ"
      },
      "id": "C5LdZfC7vWSQ",
      "execution_count": null,
      "outputs": []
    },
    {
      "cell_type": "markdown",
      "source": [
        "Here we can see that the value counts of classes are not even close to each other that is why the next step will be sampling in order to check if we balanced the classes using under sampling will the results change? Let's see."
      ],
      "metadata": {
        "id": "OQ-PRCg8vmhW"
      },
      "id": "OQ-PRCg8vmhW"
    },
    {
      "cell_type": "code",
      "source": [
        "# define undersample strategy\n",
        "undersample = RandomUnderSampler(sampling_strategy=\"not minority\", random_state=42)\n",
        "# fit and apply the transform\n",
        "X_over, y_over = undersample.fit_resample(X_train_c1v, y_train)\n",
        "# summarize class distribution\n",
        "print(Counter(y_over))"
      ],
      "metadata": {
        "id": "j9VRosRWvWVI"
      },
      "id": "j9VRosRWvWVI",
      "execution_count": null,
      "outputs": []
    },
    {
      "cell_type": "code",
      "source": [
        "clf = MultinomialNB()\n",
        "\n",
        "# number of unique classes (used later in \"class_prior parameter\")\n",
        "n_classes = np.unique(y_train)\n",
        "\n",
        "# tuning the multinomial NB using the gridsearch\n",
        "params = {'alpha': [0.01, 0.1, 0.5, 1.0, 10.0, ],\n",
        "          'fit_prior': [True, False],\n",
        "          'class_prior': [None, [0.1,]* len(n_classes), ]\n",
        "         }\n",
        "\n",
        "grid_search = hyperparameters(clf, params, X_over, y_over)"
      ],
      "metadata": {
        "id": "pgDj7YTQvo4W"
      },
      "id": "pgDj7YTQvo4W",
      "execution_count": null,
      "outputs": []
    },
    {
      "cell_type": "code",
      "source": [
        " # Evaluate the model on the validation set\n",
        "print(\"Metrics of Validation set:\")\n",
        "eval_model(grid_search,X_val_c1v,y_val)\n",
        "        \n",
        "# Evaluate the model on the testing set\n",
        "print(\"Metrics of Testing set:\")\n",
        "eval_model(grid_search,X_test_c1v,y_test)"
      ],
      "metadata": {
        "id": "qIflCpLivo68"
      },
      "id": "qIflCpLivo68",
      "execution_count": null,
      "outputs": []
    },
    {
      "cell_type": "markdown",
      "source": [
        "### Oversampling using Mulitnomial NB"
      ],
      "metadata": {
        "id": "KhdWDdHMvuxu"
      },
      "id": "KhdWDdHMvuxu"
    },
    {
      "cell_type": "code",
      "source": [
        "# define oversampling strategy\n",
        "oversample = RandomOverSampler(sampling_strategy=\"minority\", random_state=42)\n",
        "# fit and apply the transform\n",
        "X_over, y_over = oversample.fit_resample(X_train_c1v, y_train)\n",
        "# summarize class distribution\n",
        "print(Counter(y_over))"
      ],
      "metadata": {
        "id": "px2uyhUJvo-V"
      },
      "id": "px2uyhUJvo-V",
      "execution_count": null,
      "outputs": []
    },
    {
      "cell_type": "markdown",
      "source": [
        "Here we did over sampling however because the original dataset is highly imbalanced, so even after using applying oversampling, the distribution classes may not be perfectly balanced."
      ],
      "metadata": {
        "id": "nIUfhBDpv8Aj"
      },
      "id": "nIUfhBDpv8Aj"
    },
    {
      "cell_type": "code",
      "source": [
        "clf = MultinomialNB()\n",
        "\n",
        "# number of unique classes (used later in \"class_prior parameter\")\n",
        "n_classes = np.unique(y_train)\n",
        "\n",
        "# tuning the multinomial NB using the gridsearch\n",
        "params = {'alpha': [0.01, 0.1, 0.5, 1.0, 10.0, ],\n",
        "          'fit_prior': [True, False],\n",
        "          'class_prior': [None, [0.1,]* len(n_classes), ]\n",
        "         }\n",
        "\n",
        "grid_search = hyperparameters(clf, params, X_over, y_over)"
      ],
      "metadata": {
        "id": "aZnzw29Xv6dH"
      },
      "id": "aZnzw29Xv6dH",
      "execution_count": null,
      "outputs": []
    },
    {
      "cell_type": "code",
      "source": [
        " # Evaluate the model on the validation set\n",
        "print(\"Metrics of Validation set:\")\n",
        "eval_model(grid_search,X_val_c1v,y_val)\n",
        "        \n",
        "# Evaluate the model on the testing set\n",
        "print(\"Metrics of Testing set:\")\n",
        "eval_model(grid_search,X_test_c1v,y_test)"
      ],
      "metadata": {
        "id": "gAXGepkEv6gL"
      },
      "id": "gAXGepkEv6gL",
      "execution_count": null,
      "outputs": []
    },
    {
      "cell_type": "markdown",
      "source": [
        "### Undersampling using Bernoulli NB"
      ],
      "metadata": {
        "id": "HjJYwf29wGEE"
      },
      "id": "HjJYwf29wGEE"
    },
    {
      "cell_type": "code",
      "source": [
        "# define undersample strategy\n",
        "undersample = RandomUnderSampler(sampling_strategy=\"not minority\", random_state=42)\n",
        "# fit and apply the transform\n",
        "X_over, y_over = undersample.fit_resample(X_train_c1v, y_train)\n",
        "# summarize class distribution\n",
        "print(Counter(y_over))"
      ],
      "metadata": {
        "id": "HHtuh_V9v6jC"
      },
      "id": "HHtuh_V9v6jC",
      "execution_count": null,
      "outputs": []
    },
    {
      "cell_type": "code",
      "source": [
        "# number of unique classes (used later in \"class_prior parameter\")\n",
        "n_classes = np.unique(y_train)\n",
        "\n",
        "# tuning the Bernoulli NB using the gridsearch\n",
        "params = {'alpha': [0.01, 0.1, 0.5, 1.0, 10.0],\n",
        "          'fit_prior': [True, False],\n",
        "          'class_prior': [None, [0.1,]* len(n_classes), ],\n",
        "          'binarize': [None, 0.0, 8.5, 10.0]\n",
        "         }\n",
        "\n",
        "BNB = BernoulliNB()\n",
        "\n",
        "grid_search = hyperparameters(BNB, params, X_over, y_over)"
      ],
      "metadata": {
        "id": "P7ucEyDnwHEp"
      },
      "id": "P7ucEyDnwHEp",
      "execution_count": null,
      "outputs": []
    },
    {
      "cell_type": "code",
      "source": [
        " # Evaluate the model on the validation set\n",
        "print(\"Metrics of Validation set:\")\n",
        "eval_model(grid_search,X_val_c1v,y_val)\n",
        "        \n",
        "# Evaluate the model on the testing set\n",
        "print(\"Metrics of Testing set:\")\n",
        "eval_model(grid_search,X_test_c1v,y_test)"
      ],
      "metadata": {
        "id": "6JTa9xfewHHv"
      },
      "id": "6JTa9xfewHHv",
      "execution_count": null,
      "outputs": []
    },
    {
      "cell_type": "markdown",
      "source": [
        "### Oversampling using Bernoulli NB"
      ],
      "metadata": {
        "id": "QYl4KCLBwOkC"
      },
      "id": "QYl4KCLBwOkC"
    },
    {
      "cell_type": "code",
      "source": [
        "# define oversampling strategy\n",
        "oversample = RandomOverSampler(sampling_strategy=\"minority\", random_state=42)\n",
        "# fit and apply the transform\n",
        "X_over, y_over = oversample.fit_resample(X_train_c1v, y_train)\n",
        "# summarize class distribution\n",
        "print(Counter(y_over))"
      ],
      "metadata": {
        "id": "75prZ4UFwHKm"
      },
      "id": "75prZ4UFwHKm",
      "execution_count": null,
      "outputs": []
    },
    {
      "cell_type": "code",
      "source": [
        "# number of unique classes (used later in \"class_prior parameter\")\n",
        "n_classes = np.unique(y_train)\n",
        "\n",
        "# tuning the Bernoulli NB using the gridsearch\n",
        "params = {'alpha': [0.01, 0.1, 0.5, 1.0, 10.0],\n",
        "          'fit_prior': [True, False],\n",
        "          'class_prior': [None, [0.1,]* len(n_classes), ],\n",
        "          'binarize': [None, 0.0, 8.5, 10.0]\n",
        "         }\n",
        "\n",
        "BNB = BernoulliNB()\n",
        "\n",
        "grid_search = hyperparameters(BNB, params, X_over, y_over)"
      ],
      "metadata": {
        "id": "BBjJo64fwHM9"
      },
      "id": "BBjJo64fwHM9",
      "execution_count": null,
      "outputs": []
    },
    {
      "cell_type": "code",
      "source": [
        "# Evaluate the model on the validation set\n",
        "print(\"Metrics of Validation set:\")\n",
        "eval_model(grid_search,X_val_c1v,y_val)\n",
        "        \n",
        "# Evaluate the model on the testing set\n",
        "print(\"Metrics of Testing set:\")\n",
        "eval_model(grid_search,X_test_c1v,y_test)"
      ],
      "metadata": {
        "id": "pq7x0dJUwHPy"
      },
      "id": "pq7x0dJUwHPy",
      "execution_count": null,
      "outputs": []
    },
    {
      "cell_type": "markdown",
      "source": [
        "### Undersampling using Random Forest"
      ],
      "metadata": {
        "id": "AD8Os9IAwVll"
      },
      "id": "AD8Os9IAwVll"
    },
    {
      "cell_type": "code",
      "source": [
        "# define undersample strategy\n",
        "undersample = RandomUnderSampler(sampling_strategy=\"not minority\", random_state=42)\n",
        "# fit and apply the transform\n",
        "X_over, y_over = undersample.fit_resample(X_train_c1v, y_train)\n",
        "# summarize class distribution\n",
        "print(Counter(y_over))"
      ],
      "metadata": {
        "id": "NaQccR22wHSa"
      },
      "id": "NaQccR22wHSa",
      "execution_count": null,
      "outputs": []
    },
    {
      "cell_type": "code",
      "source": [
        "rf = RandomForestClassifier(random_state=42)\n",
        "\n",
        "params = {\n",
        "    'n_estimators': [50, 100, 200],\n",
        "    'max_depth': [10, 20, 30]\n",
        "}\n",
        "\n",
        "grid_search = hyperparameters(rf, params, X_over, y_over)"
      ],
      "metadata": {
        "id": "ox9nsStQv6l8"
      },
      "id": "ox9nsStQv6l8",
      "execution_count": null,
      "outputs": []
    },
    {
      "cell_type": "code",
      "source": [
        "# Evaluate the model on the validation set\n",
        "print(\"Metrics of Validation set:\")\n",
        "eval_model(grid_search,X_val_c1v,y_val)\n",
        "        \n",
        "# Evaluate the model on the testing set\n",
        "print(\"Metrics of Testing set:\")\n",
        "eval_model(grid_search,X_test_c1v,y_test)"
      ],
      "metadata": {
        "id": "I_zzwf0cv6pD"
      },
      "id": "I_zzwf0cv6pD",
      "execution_count": null,
      "outputs": []
    },
    {
      "cell_type": "markdown",
      "source": [
        "### Oversampling using Random Forest"
      ],
      "metadata": {
        "id": "f6q5e1gVwdHD"
      },
      "id": "f6q5e1gVwdHD"
    },
    {
      "cell_type": "code",
      "source": [
        "# define oversampling strategy\n",
        "oversample = RandomOverSampler(sampling_strategy=\"minority\", random_state=42)\n",
        "# fit and apply the transform\n",
        "X_over, y_over = oversample.fit_resample(X_train_c1v, y_train)\n",
        "# summarize class distribution\n",
        "print(Counter(y_over))"
      ],
      "metadata": {
        "id": "_dfANWrCv6r9"
      },
      "id": "_dfANWrCv6r9",
      "execution_count": null,
      "outputs": []
    },
    {
      "cell_type": "code",
      "source": [
        "rf = RandomForestClassifier(random_state=42)\n",
        "\n",
        "params = {\n",
        "    'n_estimators': [50, 100, 200],\n",
        "    'max_depth': [10, 20, 30]\n",
        "}\n",
        "\n",
        "grid_search = hyperparameters(rf, params, X_over, y_over)"
      ],
      "metadata": {
        "id": "Y2InPoMowbE1"
      },
      "id": "Y2InPoMowbE1",
      "execution_count": null,
      "outputs": []
    },
    {
      "cell_type": "code",
      "source": [
        "# Evaluate the model on the validation set\n",
        "print(\"Metrics of Validation set:\")\n",
        "eval_model(grid_search,X_val_c1v,y_val)\n",
        "        \n",
        "# Evaluate the model on the testing set\n",
        "print(\"Metrics of Testing set:\")\n",
        "eval_model(grid_search,X_test_c1v,y_test)"
      ],
      "metadata": {
        "id": "TznUtdXkwbH8"
      },
      "id": "TznUtdXkwbH8",
      "execution_count": null,
      "outputs": []
    },
    {
      "cell_type": "markdown",
      "source": [
        "### Undersampling using Decision Trees"
      ],
      "metadata": {
        "id": "iQIvKlVHwjrn"
      },
      "id": "iQIvKlVHwjrn"
    },
    {
      "cell_type": "code",
      "source": [
        "# define undersample strategy\n",
        "undersample = RandomUnderSampler(sampling_strategy=\"not minority\", random_state=42)\n",
        "# fit and apply the transform\n",
        "X_over, y_over = undersample.fit_resample(X_train_c1v, y_train)\n",
        "# summarize class distribution\n",
        "print(Counter(y_over))"
      ],
      "metadata": {
        "id": "Sj2IGR-9wbK0"
      },
      "id": "Sj2IGR-9wbK0",
      "execution_count": null,
      "outputs": []
    },
    {
      "cell_type": "code",
      "source": [
        "dt = DecisionTreeClassifier()\n",
        "params = {\n",
        "    'criterion': ['gini', 'entropy'],\n",
        "    'max_depth': [2, 3, 4, 5],\n",
        "    'min_samples_split': [2, 3, 4, 5],\n",
        "    'min_samples_leaf': [1, 2, 3, 4],\n",
        "}\n",
        "grid_search = hyperparameters(dt, params, X_over, y_over)"
      ],
      "metadata": {
        "id": "Va7VqOQYwlC2"
      },
      "id": "Va7VqOQYwlC2",
      "execution_count": null,
      "outputs": []
    },
    {
      "cell_type": "code",
      "source": [
        "# Evaluate the model on the validation set\n",
        "print(\"Metrics of Validation set:\")\n",
        "eval_model(grid_search,X_val_c1v,y_val)\n",
        "        \n",
        "# Evaluate the model on the testing set\n",
        "print(\"Metrics of Testing set:\")\n",
        "eval_model(grid_search,X_test_c1v,y_test)"
      ],
      "metadata": {
        "id": "Rat-Dg22wlF9"
      },
      "id": "Rat-Dg22wlF9",
      "execution_count": null,
      "outputs": []
    },
    {
      "cell_type": "markdown",
      "source": [
        "### Oversampling using Decision Trees"
      ],
      "metadata": {
        "id": "h41O0ZkxwrXR"
      },
      "id": "h41O0ZkxwrXR"
    },
    {
      "cell_type": "code",
      "source": [
        "# define oversampling strategy\n",
        "oversample = RandomOverSampler(sampling_strategy=\"minority\", random_state=42)\n",
        "# fit and apply the transform\n",
        "X_over, y_over = oversample.fit_resample(X_train_c1v, y_train)\n",
        "# summarize class distribution\n",
        "print(Counter(y_over))"
      ],
      "metadata": {
        "id": "wcLIYc5AwlI0"
      },
      "id": "wcLIYc5AwlI0",
      "execution_count": null,
      "outputs": []
    },
    {
      "cell_type": "code",
      "source": [
        "dt = DecisionTreeClassifier()\n",
        "params = {\n",
        "    'criterion': ['gini', 'entropy'],\n",
        "    'max_depth': [2, 3, 4, 5],\n",
        "    'min_samples_split': [2, 3, 4, 5],\n",
        "    'min_samples_leaf': [1, 2, 3, 4],\n",
        "}\n",
        "grid_search = hyperparameters(dt, params, X_over, y_over)"
      ],
      "metadata": {
        "id": "1m9_vODrwlLb"
      },
      "id": "1m9_vODrwlLb",
      "execution_count": null,
      "outputs": []
    },
    {
      "cell_type": "code",
      "source": [
        "# Evaluate the model on the validation set\n",
        "print(\"Metrics of Validation set:\")\n",
        "eval_model(grid_search,X_val_c1v,y_val)\n",
        "        \n",
        "# Evaluate the model on the testing set\n",
        "print(\"Metrics of Testing set:\")\n",
        "eval_model(grid_search,X_test_c1v,y_test)"
      ],
      "metadata": {
        "id": "grpjXcE8wbNb"
      },
      "id": "grpjXcE8wbNb",
      "execution_count": null,
      "outputs": []
    },
    {
      "cell_type": "markdown",
      "id": "06eae692",
      "metadata": {
        "id": "06eae692"
      },
      "source": [
        "# Modelling text as a Sequence"
      ]
    },
    {
      "cell_type": "markdown",
      "source": [
        "## Sequential model with Word Embeddings"
      ],
      "metadata": {
        "id": "QP5qFDkpWIUw"
      },
      "id": "QP5qFDkpWIUw"
    },
    {
      "cell_type": "markdown",
      "source": [
        "## Embedding Layer\n",
        "\n",
        "Till now, we have used bag of words concept which has the disadvantage of losing the semantic information present in word ordering. Word Embeddings are best way to represent text as numbers in a dense way. \n",
        "\n",
        "Word embedding helps capture the semantic or syntactic context of the reviews and can help us to understand how similar/dissimilar it is to other sentences in the reviews document, which would somehow yield better results during prediction.\n",
        "\n",
        "There are different types of embedding techniques like below..\n",
        "1. TF-IDF — Term Frequency-Inverse Document Frequency\n",
        "   Statistical method to capture the relevance of words w.r.t the corpus of text. It does not capture semantic word associations.\n",
        "   Better for information retrieval and keyword extraction in documents.\n",
        "2. Word2Vec — Capturing Semantic Information\n",
        "   Neural network-based CBOW and Skip-gram architectures, better at capturing semantic information.\n",
        "   Useful in semantic analysis task.\n",
        "3. GloVe — Global Vectors for Word Representation \n",
        "   Matrix factorization based on global word-word co-occurrence. It solves the local context limitations of Word2Vec.\n",
        "   etter at word analogy and named-entity recognition tasks. Comparable results with Word2Vec in some semantic      analysis tasks while better in others.\n",
        "4. BERT — Bidirectional Encoder Representations from Transformers\n",
        "   Transformer-based attention mechanism to capture high-quality contextual information.\n",
        "   Language translation, question-answering system. Deployed in Google Search engine to understand search queries.\n",
        "   \n",
        "Reference: https://www.kdnuggets.com/2021/11/guide-word-embedding-techniques-nlp.html\n",
        "\n",
        "Let's experiment sequence models with embedding layer and see how the model perform..\n"
      ],
      "metadata": {
        "id": "FraZlIpEWMyu"
      },
      "id": "FraZlIpEWMyu"
    },
    {
      "cell_type": "code",
      "source": [
        "y.value_counts()"
      ],
      "metadata": {
        "colab": {
          "base_uri": "https://localhost:8080/"
        },
        "id": "xyc9RqbWwfNN",
        "outputId": "edecad19-a5d3-4e88-d99a-9a221f897eae"
      },
      "id": "xyc9RqbWwfNN",
      "execution_count": 81,
      "outputs": [
        {
          "output_type": "stream",
          "name": "stderr",
          "text": [
            "/usr/local/lib/python3.9/dist-packages/ipykernel/ipkernel.py:283: DeprecationWarning: `should_run_async` will not call `transform_cell` automatically in the future. Please pass the result to `transformed_cell` argument and any exception that happen during thetransform in `preprocessing_exc_tuple` in IPython 7.17 and above.\n",
            "  and should_run_async(code)\n"
          ]
        },
        {
          "output_type": "execute_result",
          "data": {
            "text/plain": [
              "5    141169\n",
              "4     48748\n",
              "3     17947\n",
              "2      7650\n",
              "1      6729\n",
              "Name: overall, dtype: int64"
            ]
          },
          "metadata": {},
          "execution_count": 81
        }
      ]
    },
    {
      "cell_type": "code",
      "execution_count": 84,
      "id": "af11d5e6",
      "metadata": {
        "id": "af11d5e6",
        "colab": {
          "base_uri": "https://localhost:8080/"
        },
        "outputId": "0750a17a-3c39-4fc8-bd89-60352b86397b"
      },
      "outputs": [
        {
          "output_type": "stream",
          "name": "stderr",
          "text": [
            "/usr/local/lib/python3.9/dist-packages/ipykernel/ipkernel.py:283: DeprecationWarning: `should_run_async` will not call `transform_cell` automatically in the future. Please pass the result to `transformed_cell` argument and any exception that happen during thetransform in `preprocessing_exc_tuple` in IPython 7.17 and above.\n",
            "  and should_run_async(code)\n"
          ]
        }
      ],
      "source": [
        "# Splitting dataset\n",
        "X_train, X_test, y_train, y_test = train_test_split(X, y, test_size=0.20, random_state=42)\n",
        "\n",
        "# Embedding layer expects the words to be in numeric form \n",
        "# Using Tokenizer function from keras.preprocessing.text library\n",
        "# Method fit_on_text trains the tokenizer \n",
        "# Method texts_to_sequences converts sentences to their numeric form\n",
        "word_tokenizer = Tokenizer(num_words=5000)\n",
        "word_tokenizer.fit_on_texts(X_train)\n",
        "\n",
        "X_train = word_tokenizer.texts_to_sequences(X_train)\n",
        "X_test = word_tokenizer.texts_to_sequences(X_test)"
      ]
    },
    {
      "cell_type": "code",
      "execution_count": 85,
      "id": "7e0e65ec",
      "metadata": {
        "id": "7e0e65ec",
        "colab": {
          "base_uri": "https://localhost:8080/"
        },
        "outputId": "2f942efc-a6be-4131-e825-735d66ea97f9"
      },
      "outputs": [
        {
          "output_type": "stream",
          "name": "stderr",
          "text": [
            "/usr/local/lib/python3.9/dist-packages/ipykernel/ipkernel.py:283: DeprecationWarning: `should_run_async` will not call `transform_cell` automatically in the future. Please pass the result to `transformed_cell` argument and any exception that happen during thetransform in `preprocessing_exc_tuple` in IPython 7.17 and above.\n",
            "  and should_run_async(code)\n"
          ]
        }
      ],
      "source": [
        "import io\n",
        "import json\n",
        "# Saving\n",
        "tokenizer_json = word_tokenizer.to_json()\n",
        "with io.open('b3_tokenizer.json', 'w', encoding='utf-8') as f:\n",
        "    f.write(json.dumps(tokenizer_json, ensure_ascii=False))"
      ]
    },
    {
      "cell_type": "code",
      "source": [
        "# Adding 1 to store dimensions for words for which no pretrained word embeddings exist\n",
        "vocab_length = len(word_tokenizer.word_index) + 1\n",
        "vocab_length\n",
        "# Padding all reviews to fixed length 1500\n",
        "# maxlen = 1500\n",
        "maxlen = max([len(listElem.split()) for listElem in X])\n",
        "print(maxlen)\n",
        "X_train = pad_sequences(X_train, padding='post', maxlen=maxlen)\n",
        "X_test = pad_sequences(X_test, padding='post', maxlen=maxlen)"
      ],
      "metadata": {
        "id": "gcE-QnHvaPtw",
        "colab": {
          "base_uri": "https://localhost:8080/"
        },
        "outputId": "9bee5209-6162-4297-a3ef-2c481b404278"
      },
      "id": "gcE-QnHvaPtw",
      "execution_count": 86,
      "outputs": [
        {
          "output_type": "stream",
          "name": "stderr",
          "text": [
            "/usr/local/lib/python3.9/dist-packages/ipykernel/ipkernel.py:283: DeprecationWarning: `should_run_async` will not call `transform_cell` automatically in the future. Please pass the result to `transformed_cell` argument and any exception that happen during thetransform in `preprocessing_exc_tuple` in IPython 7.17 and above.\n",
            "  and should_run_async(code)\n"
          ]
        },
        {
          "output_type": "stream",
          "name": "stdout",
          "text": [
            "2889\n"
          ]
        }
      ]
    },
    {
      "cell_type": "markdown",
      "source": [
        "## Glove - pretrained embedding model"
      ],
      "metadata": {
        "id": "hmYjb2U7dOxV"
      },
      "id": "hmYjb2U7dOxV"
    },
    {
      "cell_type": "code",
      "source": [
        "# Download Glove - pretrained embedding model for usage\n",
        "!wget nlp.stanford.edu/data/glove.6B.zip"
      ],
      "metadata": {
        "colab": {
          "base_uri": "https://localhost:8080/"
        },
        "id": "bGFk-1mucyya",
        "outputId": "31836be9-f59a-4de3-cdf2-748b57d8a6a3"
      },
      "id": "bGFk-1mucyya",
      "execution_count": 87,
      "outputs": [
        {
          "output_type": "stream",
          "name": "stderr",
          "text": [
            "/usr/local/lib/python3.9/dist-packages/ipykernel/ipkernel.py:283: DeprecationWarning: `should_run_async` will not call `transform_cell` automatically in the future. Please pass the result to `transformed_cell` argument and any exception that happen during thetransform in `preprocessing_exc_tuple` in IPython 7.17 and above.\n",
            "  and should_run_async(code)\n"
          ]
        },
        {
          "output_type": "stream",
          "name": "stdout",
          "text": [
            "--2023-04-03 18:20:24--  http://nlp.stanford.edu/data/glove.6B.zip\n",
            "Resolving nlp.stanford.edu (nlp.stanford.edu)... 171.64.67.140\n",
            "Connecting to nlp.stanford.edu (nlp.stanford.edu)|171.64.67.140|:80... connected.\n",
            "HTTP request sent, awaiting response... 302 Found\n",
            "Location: https://nlp.stanford.edu/data/glove.6B.zip [following]\n",
            "--2023-04-03 18:20:24--  https://nlp.stanford.edu/data/glove.6B.zip\n",
            "Connecting to nlp.stanford.edu (nlp.stanford.edu)|171.64.67.140|:443... connected.\n",
            "HTTP request sent, awaiting response... 301 Moved Permanently\n",
            "Location: https://downloads.cs.stanford.edu/nlp/data/glove.6B.zip [following]\n",
            "--2023-04-03 18:20:24--  https://downloads.cs.stanford.edu/nlp/data/glove.6B.zip\n",
            "Resolving downloads.cs.stanford.edu (downloads.cs.stanford.edu)... 171.64.64.22\n",
            "Connecting to downloads.cs.stanford.edu (downloads.cs.stanford.edu)|171.64.64.22|:443... connected.\n",
            "HTTP request sent, awaiting response... 200 OK\n",
            "Length: 862182613 (822M) [application/zip]\n",
            "Saving to: ‘glove.6B.zip.1’\n",
            "\n",
            "glove.6B.zip.1      100%[===================>] 822.24M  5.08MB/s    in 2m 39s  \n",
            "\n",
            "2023-04-03 18:23:03 (5.16 MB/s) - ‘glove.6B.zip.1’ saved [862182613/862182613]\n",
            "\n"
          ]
        }
      ]
    },
    {
      "cell_type": "code",
      "source": [
        "!unzip glove*.zip"
      ],
      "metadata": {
        "colab": {
          "base_uri": "https://localhost:8080/"
        },
        "id": "MRDcL6Z3dS-4",
        "outputId": "45abf6b8-e384-4ec5-ec52-629584419f60"
      },
      "id": "MRDcL6Z3dS-4",
      "execution_count": 88,
      "outputs": [
        {
          "output_type": "stream",
          "name": "stderr",
          "text": [
            "/usr/local/lib/python3.9/dist-packages/ipykernel/ipkernel.py:283: DeprecationWarning: `should_run_async` will not call `transform_cell` automatically in the future. Please pass the result to `transformed_cell` argument and any exception that happen during thetransform in `preprocessing_exc_tuple` in IPython 7.17 and above.\n",
            "  and should_run_async(code)\n"
          ]
        },
        {
          "output_type": "stream",
          "name": "stdout",
          "text": [
            "Archive:  glove.6B.zip\n",
            "replace glove.6B.50d.txt? [y]es, [n]o, [A]ll, [N]one, [r]ename: "
          ]
        }
      ]
    },
    {
      "cell_type": "markdown",
      "source": [
        "## Create Embedding Matrix"
      ],
      "metadata": {
        "id": "jgIcfNoKfj4m"
      },
      "id": "jgIcfNoKfj4m"
    },
    {
      "cell_type": "code",
      "source": [
        "# Load GloVe word embeddings and create an Embeddings Dictionary\n",
        "embeddings_dictionary = dict()\n",
        "glove_file = open('glove.6B.300d.txt', encoding=\"utf8\")\n",
        "\n",
        "for line in glove_file:\n",
        "    records = line.split()\n",
        "    word = records[0]\n",
        "    vector_dimensions = asarray(records[1:], dtype='float32')\n",
        "    embeddings_dictionary [word] = vector_dimensions\n",
        "glove_file.close()"
      ],
      "metadata": {
        "id": "1XVb6OI3aP1Q",
        "colab": {
          "base_uri": "https://localhost:8080/"
        },
        "outputId": "4564609a-12ad-46f5-9716-b44e96981ff3"
      },
      "id": "1XVb6OI3aP1Q",
      "execution_count": 89,
      "outputs": [
        {
          "output_type": "stream",
          "name": "stderr",
          "text": [
            "/usr/local/lib/python3.9/dist-packages/ipykernel/ipkernel.py:283: DeprecationWarning: `should_run_async` will not call `transform_cell` automatically in the future. Please pass the result to `transformed_cell` argument and any exception that happen during thetransform in `preprocessing_exc_tuple` in IPython 7.17 and above.\n",
            "  and should_run_async(code)\n"
          ]
        }
      ]
    },
    {
      "cell_type": "code",
      "source": [
        "# Create Embedding Matrix having 300 columns \n",
        "# Containing 300-dimensional GloVe word embeddings for all words in our corpus.\n",
        "embedding_matrix = zeros((vocab_length, 300))\n",
        "for word, index in word_tokenizer.word_index.items():\n",
        "    embedding_vector = embeddings_dictionary.get(word)\n",
        "    if embedding_vector is not None:\n",
        "        embedding_matrix[index] = embedding_vector"
      ],
      "metadata": {
        "id": "u5OX5oYTaP4W",
        "colab": {
          "base_uri": "https://localhost:8080/"
        },
        "outputId": "36b0f3ba-0f80-423f-c733-17e495b46d96"
      },
      "id": "u5OX5oYTaP4W",
      "execution_count": 90,
      "outputs": [
        {
          "output_type": "stream",
          "name": "stderr",
          "text": [
            "/usr/local/lib/python3.9/dist-packages/ipykernel/ipkernel.py:283: DeprecationWarning: `should_run_async` will not call `transform_cell` automatically in the future. Please pass the result to `transformed_cell` argument and any exception that happen during thetransform in `preprocessing_exc_tuple` in IPython 7.17 and above.\n",
            "  and should_run_async(code)\n"
          ]
        }
      ]
    },
    {
      "cell_type": "markdown",
      "source": [
        "## Model training with simple sequencial Neural network"
      ],
      "metadata": {
        "id": "JtPgXWBLWZlx"
      },
      "id": "JtPgXWBLWZlx"
    },
    {
      "cell_type": "code",
      "execution_count": null,
      "id": "6a29c7cf",
      "metadata": {
        "id": "6a29c7cf"
      },
      "outputs": [],
      "source": [
        "# Neural Network architecture\n",
        "\n",
        "snn_model = Sequential()\n",
        "embedding_layer = Embedding(vocab_length, 300, weights=[embedding_matrix], input_length=maxlen , trainable=False)\n",
        "snn_model.add(embedding_layer)\n",
        "snn_model.add(Flatten())\n",
        "snn_model.add(Dense(5, activation='softmax'))"
      ]
    },
    {
      "cell_type": "code",
      "execution_count": null,
      "id": "92818471",
      "metadata": {
        "id": "92818471"
      },
      "outputs": [],
      "source": [
        "# Model compiling\n",
        "snn_model.compile(optimizer='adam', loss='sparse_categorical_crossentropy', metrics=['accuracy'])\n",
        "print(snn_model.summary())"
      ]
    },
    {
      "cell_type": "code",
      "execution_count": null,
      "id": "a3079317",
      "metadata": {
        "id": "a3079317"
      },
      "outputs": [],
      "source": [
        "# Model training\n",
        "\n",
        "snn_model_history = snn_model.fit(X_train, y_train, batch_size=128, epochs=3, verbose=1, validation_split=0.2)"
      ]
    },
    {
      "cell_type": "code",
      "execution_count": null,
      "id": "40060679",
      "metadata": {
        "id": "40060679"
      },
      "outputs": [],
      "source": [
        "# Predictions on the Test Set\n",
        "score = snn_model.evaluate(X_test, y_test, verbose=1)"
      ]
    },
    {
      "cell_type": "code",
      "execution_count": null,
      "id": "927dd6bb",
      "metadata": {
        "id": "927dd6bb"
      },
      "outputs": [],
      "source": [
        "# Model Performance\n",
        "\n",
        "print(\"Test Score:\", score[0])\n",
        "print(\"Test Accuracy:\", score[1])"
      ]
    },
    {
      "cell_type": "code",
      "source": [
        "\n",
        "# Model Performance Charts\n",
        "\n",
        "import matplotlib.pyplot as plt\n",
        "\n",
        "plt.plot(snn_model_history.history['acc'])\n",
        "plt.plot(snn_model_history.history['val_acc'])\n",
        "\n",
        "plt.title('model accuracy')\n",
        "plt.ylabel('accuracy')\n",
        "plt.xlabel('epoch')\n",
        "plt.legend(['train','test'], loc='upper left')\n",
        "plt.show()\n",
        "\n",
        "plt.plot(snn_model_history.history['loss'])\n",
        "plt.plot(snn_model_history.history['val_loss'])\n",
        "\n",
        "plt.title('model loss')\n",
        "plt.ylabel('loss')\n",
        "plt.xlabel('epoch')\n",
        "plt.legend(['train','test'], loc='upper left')\n",
        "plt.show()"
      ],
      "metadata": {
        "id": "4wWksfM-WmO6"
      },
      "id": "4wWksfM-WmO6",
      "execution_count": null,
      "outputs": []
    },
    {
      "cell_type": "markdown",
      "source": [
        "## Model training with simple sequencial CNN"
      ],
      "metadata": {
        "id": "qKmnya7uWtD1"
      },
      "id": "qKmnya7uWtD1"
    },
    {
      "cell_type": "code",
      "source": [
        "from keras.layers import Conv1D"
      ],
      "metadata": {
        "id": "7HY6uVtQWmV8"
      },
      "id": "7HY6uVtQWmV8",
      "execution_count": null,
      "outputs": []
    },
    {
      "cell_type": "code",
      "source": [
        "# Neural Network architecture\n",
        "\n",
        "cnn_model = Sequential()\n",
        "embedding_layer = Embedding(vocab_length, 100, weights=[embedding_matrix], input_length=maxlen , trainable=False)\n",
        "cnn_model.add(embedding_layer)\n",
        "\n",
        "cnn_model.add(Conv1D(128, 5, activation='relu'))\n",
        "cnn_model.add(GlobalMaxPooling1D())\n",
        "cnn_model.add(Dense(5, activation='softmax'))"
      ],
      "metadata": {
        "id": "wH324246WmYx"
      },
      "id": "wH324246WmYx",
      "execution_count": null,
      "outputs": []
    },
    {
      "cell_type": "code",
      "source": [
        "# Model compiling\n",
        "\n",
        "cnn_model.compile(optimizer='adam', loss='sparse_categorical_crossentropy', metrics=['accuracy'])\n",
        "print(cnn_model.summary())"
      ],
      "metadata": {
        "id": "eOmLNGTNWmbo"
      },
      "id": "eOmLNGTNWmbo",
      "execution_count": null,
      "outputs": []
    },
    {
      "cell_type": "code",
      "source": [
        "# Model training\n",
        "\n",
        "cnn_model_history = cnn_model.fit(X_train, y_train, batch_size=128, epochs=6, verbose=1, validation_split=0.2)"
      ],
      "metadata": {
        "id": "o1D3BIplWmev"
      },
      "id": "o1D3BIplWmev",
      "execution_count": null,
      "outputs": []
    },
    {
      "cell_type": "code",
      "source": [
        "# Predictions on the Test Set\n",
        "\n",
        "score = cnn_model.evaluate(X_test, y_test, verbose=1)"
      ],
      "metadata": {
        "id": "mFohMMKVWmh4"
      },
      "id": "mFohMMKVWmh4",
      "execution_count": null,
      "outputs": []
    },
    {
      "cell_type": "code",
      "source": [
        "# Model Performance\n",
        "\n",
        "print(\"Test Score:\", score[0])\n",
        "print(\"Test Accuracy:\", score[1])"
      ],
      "metadata": {
        "id": "wZKvwIthW2nA"
      },
      "id": "wZKvwIthW2nA",
      "execution_count": null,
      "outputs": []
    },
    {
      "cell_type": "code",
      "source": [
        "# Model Performance Charts\n",
        "\n",
        "import matplotlib.pyplot as plt\n",
        "\n",
        "plt.plot(cnn_model_history.history['acc'])\n",
        "plt.plot(cnn_model_history.history['val_acc'])\n",
        "\n",
        "plt.title('model accuracy')\n",
        "plt.ylabel('accuracy')\n",
        "plt.xlabel('epoch')\n",
        "plt.legend(['train','test'], loc = 'upper left')\n",
        "plt.show()\n",
        "\n",
        "plt.plot(cnn_model_history.history['loss'])\n",
        "plt.plot(cnn_model_history.history['val_loss'])\n",
        "\n",
        "plt.title('model loss')\n",
        "plt.ylabel('loss')\n",
        "plt.xlabel('epoch')\n",
        "plt.legend(['train','test'], loc = 'upper left')\n",
        "plt.show()"
      ],
      "metadata": {
        "id": "Xwf4wMuXW2rZ"
      },
      "id": "Xwf4wMuXW2rZ",
      "execution_count": null,
      "outputs": []
    },
    {
      "cell_type": "markdown",
      "source": [
        "## Model training with simple sequencial RNN (LSTM)"
      ],
      "metadata": {
        "id": "VF5L8C-zW99k"
      },
      "id": "VF5L8C-zW99k"
    },
    {
      "cell_type": "code",
      "source": [
        "from keras.layers import LSTM"
      ],
      "metadata": {
        "id": "SB2DIy2hW2xH"
      },
      "id": "SB2DIy2hW2xH",
      "execution_count": null,
      "outputs": []
    },
    {
      "cell_type": "code",
      "source": [
        "# Neural Network architecture\n",
        "\n",
        "lstm_model = Sequential()\n",
        "embedding_layer = Embedding(vocab_length, 100, weights=[embedding_matrix], input_length=maxlen , trainable=False)\n",
        "\n",
        "lstm_model.add(embedding_layer)\n",
        "lstm_model.add(LSTM(128))\n",
        "\n",
        "lstm_model.add(Dense(5, activation='softmax'))"
      ],
      "metadata": {
        "id": "G28WpA8oW2z-"
      },
      "id": "G28WpA8oW2z-",
      "execution_count": null,
      "outputs": []
    },
    {
      "cell_type": "code",
      "source": [
        "# Model compiling\n",
        "\n",
        "lstm_model.compile(optimizer='adam', loss='sparse_categorical_crossentropy', metrics=['accuracy'])\n",
        "print(lstm_model.summary())"
      ],
      "metadata": {
        "id": "61CUQu-UW222"
      },
      "id": "61CUQu-UW222",
      "execution_count": null,
      "outputs": []
    },
    {
      "cell_type": "code",
      "source": [
        "# Model Training\n",
        "\n",
        "lstm_model_history = lstm_model.fit(X_train, y_train, batch_size=128, epochs=6, verbose=1, validation_split=0.2)"
      ],
      "metadata": {
        "id": "aaXLmTlsXCm-"
      },
      "id": "aaXLmTlsXCm-",
      "execution_count": null,
      "outputs": []
    },
    {
      "cell_type": "code",
      "source": [
        "# Predictions on the Test Set\n",
        "\n",
        "score = lstm_model.evaluate(X_test, y_test, verbose=1)"
      ],
      "metadata": {
        "id": "8bxFDl3LXCqV"
      },
      "id": "8bxFDl3LXCqV",
      "execution_count": null,
      "outputs": []
    },
    {
      "cell_type": "code",
      "source": [
        "# Model Performance\n",
        "\n",
        "print(\"Test Score:\", score[0])\n",
        "print(\"Test Accuracy:\", score[1])"
      ],
      "metadata": {
        "id": "OlME8NphXCs6"
      },
      "id": "OlME8NphXCs6",
      "execution_count": null,
      "outputs": []
    },
    {
      "cell_type": "code",
      "source": [
        "# Model Performance Charts\n",
        "\n",
        "import matplotlib.pyplot as plt\n",
        "\n",
        "plt.plot(lstm_model_history.history['acc'])\n",
        "plt.plot(lstm_model_history.history['val_acc'])\n",
        "\n",
        "plt.title('model accuracy')\n",
        "plt.ylabel('accuracy')\n",
        "plt.xlabel('epoch')\n",
        "plt.legend(['train','test'], loc='upper left')\n",
        "plt.show()\n",
        "\n",
        "plt.plot(lstm_model_history.history['loss'])\n",
        "plt.plot(lstm_model_history.history['val_loss'])\n",
        "\n",
        "plt.title('model loss')\n",
        "plt.ylabel('loss')\n",
        "plt.xlabel('epoch')\n",
        "plt.legend(['train','test'], loc='upper left')\n",
        "plt.show()"
      ],
      "metadata": {
        "id": "5g_309c7XCv0"
      },
      "id": "5g_309c7XCv0",
      "execution_count": null,
      "outputs": []
    },
    {
      "cell_type": "markdown",
      "source": [
        "# Topic Modelling\n",
        "\n",
        "Topic modeling can be described as a method of finding a topic from the collection of documents that best represents the information in those documents."
      ],
      "metadata": {
        "id": "AFWmCU8cP-Ac"
      },
      "id": "AFWmCU8cP-Ac"
    },
    {
      "cell_type": "code",
      "source": [
        "# tokenize using gensims simple_preprocess\n",
        "def sent_to_words(sentences, deacc=True):  # deacc=True removes punctuations\n",
        "    for sentence in sentences:\n",
        "        yield(simple_preprocess(str(sentence)))\n",
        "\n",
        "# functions for removing stopwords and lemmatization\n",
        "def remove_stopwords(texts):\n",
        "    return [[word for word in simple_preprocess(str(doc)) if word not in stop_words] for doc in texts]\n",
        "\n",
        "def lemmatization(texts,allowed_postags=['NOUN','ADJ','VERB','ADV']):\n",
        "    \"\"\"https://spacy.io/api/annotation\"\"\"\n",
        "    texts_out=[]\n",
        "    for sent in texts:\n",
        "        doc=nlp(' '.join(sent))\n",
        "        texts_out.append([token.lemma_ for token in doc if token.pos_ in allowed_postags])\n",
        "    return texts_out"
      ],
      "metadata": {
        "colab": {
          "base_uri": "https://localhost:8080/"
        },
        "id": "_rrc9IoGOOpZ",
        "outputId": "1b81f248-bd7a-45cb-ff4d-1f227145bfe6"
      },
      "id": "_rrc9IoGOOpZ",
      "execution_count": 16,
      "outputs": [
        {
          "output_type": "stream",
          "name": "stderr",
          "text": [
            "/usr/local/lib/python3.9/dist-packages/ipykernel/ipkernel.py:283: DeprecationWarning: `should_run_async` will not call `transform_cell` automatically in the future. Please pass the result to `transformed_cell` argument and any exception that happen during thetransform in `preprocessing_exc_tuple` in IPython 7.17 and above.\n",
            "  and should_run_async(code)\n"
          ]
        }
      ]
    },
    {
      "cell_type": "code",
      "source": [
        "# convert to list\n",
        "data=X.tolist()\n",
        "data_words=list(sent_to_words(data))\n",
        "stop_words= stopwords.words('english') + list(string.punctuation)\n",
        "\n",
        "# remove stop words\n",
        "data_words_npstops= remove_stopwords(data_words)"
      ],
      "metadata": {
        "id": "lAjt9hV5XC1y",
        "colab": {
          "base_uri": "https://localhost:8080/"
        },
        "outputId": "0a8bbd5d-c21b-4009-98cc-746454cbffed"
      },
      "id": "lAjt9hV5XC1y",
      "execution_count": 19,
      "outputs": [
        {
          "output_type": "stream",
          "name": "stderr",
          "text": [
            "/usr/local/lib/python3.9/dist-packages/ipykernel/ipkernel.py:283: DeprecationWarning: `should_run_async` will not call `transform_cell` automatically in the future. Please pass the result to `transformed_cell` argument and any exception that happen during thetransform in `preprocessing_exc_tuple` in IPython 7.17 and above.\n",
            "  and should_run_async(code)\n"
          ]
        }
      ]
    },
    {
      "cell_type": "code",
      "source": [
        "# initialize spacy \n",
        "nlp=spacy.load('en_core_web_sm',disable=['parser', 'ner'])\n",
        "\n",
        "# lemmatization keeping only noun, adj, vb, adv\n",
        "data_lemmatized=lemmatization(data_words_npstops, allowed_postags=['NOUN', 'ADJ', 'VERB', 'ADV'])\n",
        "\n",
        "# create dictionary and corpus\n",
        "id2word=corpora.Dictionary(data_lemmatized)\n",
        "corpus=[id2word.doc2bow(text) for text in data_lemmatized]"
      ],
      "metadata": {
        "colab": {
          "base_uri": "https://localhost:8080/"
        },
        "id": "-VCYnC-xPYPK",
        "outputId": "f6c6df34-5b26-4a29-9c47-d18589363ef6"
      },
      "id": "-VCYnC-xPYPK",
      "execution_count": null,
      "outputs": [
        {
          "output_type": "stream",
          "name": "stderr",
          "text": [
            "/usr/local/lib/python3.9/dist-packages/ipykernel/ipkernel.py:283: DeprecationWarning: `should_run_async` will not call `transform_cell` automatically in the future. Please pass the result to `transformed_cell` argument and any exception that happen during thetransform in `preprocessing_exc_tuple` in IPython 7.17 and above.\n",
            "  and should_run_async(code)\n"
          ]
        }
      ]
    },
    {
      "cell_type": "markdown",
      "source": [
        "** Building the Topic Model **\n",
        "\n",
        "LDA - Latent Dirichlet allocation (LDA), a generative probabilistic model for collections of discrete data such as text corpora. LDA is a three-level hierarchical Bayesian model, in which each item of a collection is modeled as a finite mixture over an underlying set of topics. Each topic is, in turn, modeled as an infinite mixture over an underlying set of topic probabilities. In the context of text modeling, the topic probabilities provide an explicit representation of a document"
      ],
      "metadata": {
        "id": "RFlSxJTxOjGq"
      },
      "id": "RFlSxJTxOjGq"
    },
    {
      "cell_type": "code",
      "source": [
        "# Build LDA model\n",
        "lda_model= gensim.models.ldamodel.LdaModel(corpus=corpus,id2word=id2word,num_topics=10,random_state=100,\\\n",
        "                                          update_every=1,chunksize=100,passes=10,alpha='auto',per_word_topics=True)"
      ],
      "metadata": {
        "id": "DyhYimvUfXce"
      },
      "id": "DyhYimvUfXce",
      "execution_count": null,
      "outputs": []
    },
    {
      "cell_type": "code",
      "source": [
        "# print keywords \n",
        "print(lda_model.print_topics())\n",
        "doc_lda = lda_model[corpus]"
      ],
      "metadata": {
        "id": "AMVyE0faPBaV"
      },
      "id": "AMVyE0faPBaV",
      "execution_count": null,
      "outputs": []
    },
    {
      "cell_type": "code",
      "source": [
        "# coherence score\n",
        "coherence_model_lda = CoherenceModel(model=lda_model, texts=data_lemmatized, dictionary=id2word, coherence='c_v')\n",
        "coherence_lda = coherence_model_lda.get_coherence()\n",
        "print('Coherence Score: ', coherence_lda)"
      ],
      "metadata": {
        "id": "atqFE5klPBdR"
      },
      "id": "atqFE5klPBdR",
      "execution_count": null,
      "outputs": []
    },
    {
      "cell_type": "code",
      "source": [
        "# Visualize the topics\n",
        "pyLDAvis.enable_notebook()\n",
        "vis = pyLDAvis.gensim.prepare(lda_model, corpus, id2word)\n",
        "vis"
      ],
      "metadata": {
        "id": "xZk0MBSEPBjz"
      },
      "id": "xZk0MBSEPBjz",
      "execution_count": null,
      "outputs": []
    },
    {
      "cell_type": "markdown",
      "source": [
        "## Hyperparameter Tuning - Number of Topics and Alpha"
      ],
      "metadata": {
        "id": "izBZY-n0kNo2"
      },
      "id": "izBZY-n0kNo2"
    },
    {
      "cell_type": "code",
      "source": [
        "# compute coherence value at various values of alpha and num_topics\n",
        "def compute_coherence_values(dictionary, corpus, texts, num_topics_range,alpha_range):\n",
        "    coherence_values=[]\n",
        "    model_list=[]\n",
        "    for alpha in alpha_range:\n",
        "        for num_topics in num_topics_range:\n",
        "            lda_model= gensim.models.ldamodel.LdaModel(corpus=corpus, id2word=dictionary, alpha=alpha,num_topics=num_topics,\\\n",
        "                                                      per_word_topics=True)\n",
        "            model_list.append(lda_model)\n",
        "            coherencemodel=CoherenceModel(model=lda_model,texts=texts,dictionary=dictionary,coherence='c_v')\n",
        "            coherence_values.append((alpha,num_topics,coherencemodel.get_coherence()))\n",
        "    return model_list,coherence_values"
      ],
      "metadata": {
        "id": "fOZLDt6GPBqJ"
      },
      "id": "fOZLDt6GPBqJ",
      "execution_count": null,
      "outputs": []
    },
    {
      "cell_type": "code",
      "source": [
        "# build models accross a range of num_topics and alpha\n",
        "num_topics_range= [2,6,10,15,20]\n",
        "alpha_range=[0.01,0.1,1]\n",
        "model_list, coherence_values= compute_coherence_values(dictionary=id2word,corpus=corpus,texts=data_lemmatized,\\\n",
        "                                                       num_topics_range=num_topics_range,alpha_range=alpha_range)\n"
      ],
      "metadata": {
        "id": "w7FojfL5kJMH"
      },
      "id": "w7FojfL5kJMH",
      "execution_count": null,
      "outputs": []
    },
    {
      "cell_type": "code",
      "source": [
        "coherence_df = pd.DataFrame(coherence_values, columns=['alpha', 'num_topics', 'coherence_value'])\n",
        "coherence_df"
      ],
      "metadata": {
        "id": "G6xidxzVkJRD"
      },
      "id": "G6xidxzVkJRD",
      "execution_count": null,
      "outputs": []
    },
    {
      "cell_type": "code",
      "source": [
        "# plot\n",
        "def plot_coherence(coherence_df,alpha_range,num_topics_range):\n",
        "    plt.figure(figsize=(16,6))\n",
        "    \n",
        "    for i,val in enumerate(alpha_range):\n",
        "        #subolot 1/3/i\n",
        "        plt.subplot(1,3,i+1)\n",
        "        alpha_subset=coherence_df[coherence_df['alpha']==val]\n",
        "        plt.plot(alpha_subset['num_topics'],alpha_subset['coherence_value'])\n",
        "        plt.xlabel('num_topics')\n",
        "        plt.ylabel('Coherence Value')\n",
        "        plt.title('alpha={0}'.format(val))\n",
        "        plt.ylim([0.30,1])\n",
        "        plt.legend('coherence value', loc='upper left')\n",
        "        plt.xticks(num_topics_range)\n",
        "plot_coherence(coherence_df,alpha_range,num_topics_range)"
      ],
      "metadata": {
        "id": "2YE0FlmRkJTj"
      },
      "id": "2YE0FlmRkJTj",
      "execution_count": null,
      "outputs": []
    },
    {
      "cell_type": "markdown",
      "source": [
        "## Testing Dataset:"
      ],
      "metadata": {
        "id": "WFpyNZH7mBW3"
      },
      "id": "WFpyNZH7mBW3"
    },
    {
      "cell_type": "code",
      "source": [
        "test = pd.read_csv('/content/sample_data/test.csv')"
      ],
      "metadata": {
        "id": "kmZX_nkemAPw"
      },
      "id": "kmZX_nkemAPw",
      "execution_count": null,
      "outputs": []
    },
    {
      "cell_type": "code",
      "source": [
        "test.info()"
      ],
      "metadata": {
        "id": "WTnHmUPlmAXQ"
      },
      "id": "WTnHmUPlmAXQ",
      "execution_count": null,
      "outputs": []
    },
    {
      "cell_type": "code",
      "source": [
        "test.head()"
      ],
      "metadata": {
        "id": "Vu08w29ZmAZ6"
      },
      "id": "Vu08w29ZmAZ6",
      "execution_count": null,
      "outputs": []
    },
    {
      "cell_type": "code",
      "source": [
        "count_1_vec = CountVectorizer(ngram_range=(1,1))"
      ],
      "metadata": {
        "id": "WhEs2-SNmAcv"
      },
      "id": "WhEs2-SNmAcv",
      "execution_count": null,
      "outputs": []
    },
    {
      "cell_type": "code",
      "source": [
        "test.drop_duplicates()"
      ],
      "metadata": {
        "id": "IudRoyzkmAfX"
      },
      "id": "IudRoyzkmAfX",
      "execution_count": null,
      "outputs": []
    },
    {
      "cell_type": "code",
      "source": [
        "test['cleanedReviews']= test['Review'].apply(lambda x: preprocess(x, 'lemma_punc_stop'))\n"
      ],
      "metadata": {
        "id": "DecwghRAmAh9"
      },
      "id": "DecwghRAmAh9",
      "execution_count": null,
      "outputs": []
    },
    {
      "cell_type": "code",
      "source": [
        "X_train =  count_1_vec.fit_transform(train_set['cleanedReviews'])\n",
        "X_test = count_1_vec.transform(test['cleanedReviews'])"
      ],
      "metadata": {
        "id": "hs_DgMC3mAk6"
      },
      "id": "hs_DgMC3mAk6",
      "execution_count": null,
      "outputs": []
    },
    {
      "cell_type": "code",
      "source": [
        "# define oversampling strategy\n",
        "oversample = RandomOverSampler(sampling_strategy=\"minority\", random_state=42)\n",
        "# fit and apply the transform\n",
        "X_over, y_over = oversample.fit_resample(X_train, y)\n",
        "# summarize class distribution\n",
        "print(Counter(y_over))"
      ],
      "metadata": {
        "id": "BrThsritmAnL"
      },
      "id": "BrThsritmAnL",
      "execution_count": null,
      "outputs": []
    },
    {
      "cell_type": "code",
      "source": [
        "rf = RandomForestClassifier(max_depth= 30, n_estimators = 100, random_state=42)\n",
        "rf.fit(X_over, y_over)"
      ],
      "metadata": {
        "id": "Zlbb45UJmApy"
      },
      "id": "Zlbb45UJmApy",
      "execution_count": null,
      "outputs": []
    },
    {
      "cell_type": "code",
      "source": [
        " y= rf.predict(X_test)"
      ],
      "metadata": {
        "id": "GpOV0T68mQNt"
      },
      "id": "GpOV0T68mQNt",
      "execution_count": null,
      "outputs": []
    },
    {
      "cell_type": "code",
      "source": [
        "sample=pd.read_csv('/content/sample_data/sample_submission.csv')"
      ],
      "metadata": {
        "id": "d9jRzTyJmQQg"
      },
      "id": "d9jRzTyJmQQg",
      "execution_count": null,
      "outputs": []
    },
    {
      "cell_type": "code",
      "source": [
        "sample.info()"
      ],
      "metadata": {
        "id": "2amYuF7ZmQTG"
      },
      "id": "2amYuF7ZmQTG",
      "execution_count": null,
      "outputs": []
    },
    {
      "cell_type": "code",
      "source": [
        "sample.describe()"
      ],
      "metadata": {
        "id": "5ghRddUGmQV-"
      },
      "id": "5ghRddUGmQV-",
      "execution_count": null,
      "outputs": []
    },
    {
      "cell_type": "code",
      "source": [
        "# This will be your baseline classification (compare to output of majority class)\n",
        "print(\"Test set score:{:.2f}\".format(np.mean(y==sample.overall)))"
      ],
      "metadata": {
        "id": "jV00tPMkmQYk"
      },
      "id": "jV00tPMkmQYk",
      "execution_count": null,
      "outputs": []
    },
    {
      "cell_type": "code",
      "source": [
        "sample['overall'] = y"
      ],
      "metadata": {
        "id": "Z1h6vUbCmQbM"
      },
      "id": "Z1h6vUbCmQbM",
      "execution_count": null,
      "outputs": []
    },
    {
      "cell_type": "code",
      "source": [
        "sample.to_csv('Mysubmission.csv', index=False)"
      ],
      "metadata": {
        "id": "cEJC5mOumY2R"
      },
      "id": "cEJC5mOumY2R",
      "execution_count": null,
      "outputs": []
    },
    {
      "cell_type": "code",
      "source": [
        "clf = MultinomialNB(alpha = 1.0, fit_prior = True)\n",
        "clf.fit(X_over, y_over)"
      ],
      "metadata": {
        "id": "zTaGZuoVmY5Y"
      },
      "id": "zTaGZuoVmY5Y",
      "execution_count": null,
      "outputs": []
    },
    {
      "cell_type": "code",
      "source": [
        " y= rf.predict(X_test)"
      ],
      "metadata": {
        "id": "GHLbWj2HmY8Q"
      },
      "id": "GHLbWj2HmY8Q",
      "execution_count": null,
      "outputs": []
    }
  ],
  "metadata": {
    "kernelspec": {
      "display_name": "Python 3 (ipykernel)",
      "language": "python",
      "name": "python3"
    },
    "language_info": {
      "codemirror_mode": {
        "name": "ipython",
        "version": 3
      },
      "file_extension": ".py",
      "mimetype": "text/x-python",
      "name": "python",
      "nbconvert_exporter": "python",
      "pygments_lexer": "ipython3",
      "version": "3.9.12"
    },
    "colab": {
      "provenance": []
    }
  },
  "nbformat": 4,
  "nbformat_minor": 5
}